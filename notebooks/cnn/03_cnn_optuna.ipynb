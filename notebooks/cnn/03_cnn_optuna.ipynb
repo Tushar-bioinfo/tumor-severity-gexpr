{
 "cells": [
  {
   "cell_type": "code",
   "execution_count": 3,
   "metadata": {},
   "outputs": [
    {
     "name": "stderr",
     "output_type": "stream",
     "text": [
      "[I 2025-08-05 10:30:15,537] A new study created in memory with name: no-name-42ad83fa-5683-430f-8d70-1d0636548384\n"
     ]
    },
    {
     "name": "stdout",
     "output_type": "stream",
     "text": [
      "\u001b[1m3/3\u001b[0m \u001b[32m━━━━━━━━━━━━━━━━━━━━\u001b[0m\u001b[37m\u001b[0m \u001b[1m0s\u001b[0m 23ms/step\n"
     ]
    },
    {
     "name": "stderr",
     "output_type": "stream",
     "text": [
      "[I 2025-08-05 10:30:20,499] Trial 0 finished with value: 0.6447368421052632 and parameters: {'filters': 64, 'kernel_size': 16, 'stride': 1, 'dense_units': 64}. Best is trial 0 with value: 0.6447368421052632.\n"
     ]
    },
    {
     "name": "stdout",
     "output_type": "stream",
     "text": [
      "\u001b[1m3/3\u001b[0m \u001b[32m━━━━━━━━━━━━━━━━━━━━\u001b[0m\u001b[37m\u001b[0m \u001b[1m0s\u001b[0m 30ms/step\n"
     ]
    },
    {
     "name": "stderr",
     "output_type": "stream",
     "text": [
      "[I 2025-08-05 10:30:35,523] Trial 1 finished with value: 0.6973684210526315 and parameters: {'filters': 128, 'kernel_size': 8, 'stride': 1, 'dense_units': 64}. Best is trial 1 with value: 0.6973684210526315.\n"
     ]
    },
    {
     "name": "stdout",
     "output_type": "stream",
     "text": [
      "WARNING:tensorflow:5 out of the last 7 calls to <function TensorFlowTrainer.make_predict_function.<locals>.one_step_on_data_distributed at 0x30518b9c0> triggered tf.function retracing. Tracing is expensive and the excessive number of tracings could be due to (1) creating @tf.function repeatedly in a loop, (2) passing tensors with different shapes, (3) passing Python objects instead of tensors. For (1), please define your @tf.function outside of the loop. For (2), @tf.function has reduce_retracing=True option that can avoid unnecessary retracing. For (3), please refer to https://www.tensorflow.org/guide/function#controlling_retracing and https://www.tensorflow.org/api_docs/python/tf/function for  more details.\n",
      "\u001b[1m1/3\u001b[0m \u001b[32m━━━━━━\u001b[0m\u001b[37m━━━━━━━━━━━━━━\u001b[0m \u001b[1m0s\u001b[0m 43ms/stepWARNING:tensorflow:6 out of the last 9 calls to <function TensorFlowTrainer.make_predict_function.<locals>.one_step_on_data_distributed at 0x30518b9c0> triggered tf.function retracing. Tracing is expensive and the excessive number of tracings could be due to (1) creating @tf.function repeatedly in a loop, (2) passing tensors with different shapes, (3) passing Python objects instead of tensors. For (1), please define your @tf.function outside of the loop. For (2), @tf.function has reduce_retracing=True option that can avoid unnecessary retracing. For (3), please refer to https://www.tensorflow.org/guide/function#controlling_retracing and https://www.tensorflow.org/api_docs/python/tf/function for  more details.\n",
      "\u001b[1m3/3\u001b[0m \u001b[32m━━━━━━━━━━━━━━━━━━━━\u001b[0m\u001b[37m\u001b[0m \u001b[1m0s\u001b[0m 28ms/step\n"
     ]
    },
    {
     "name": "stderr",
     "output_type": "stream",
     "text": [
      "[I 2025-08-05 10:30:45,350] Trial 2 finished with value: 0.7236842105263158 and parameters: {'filters': 64, 'kernel_size': 2, 'stride': 1, 'dense_units': 128}. Best is trial 2 with value: 0.7236842105263158.\n"
     ]
    },
    {
     "name": "stdout",
     "output_type": "stream",
     "text": [
      "\u001b[1m3/3\u001b[0m \u001b[32m━━━━━━━━━━━━━━━━━━━━\u001b[0m\u001b[37m\u001b[0m \u001b[1m0s\u001b[0m 30ms/step\n"
     ]
    },
    {
     "name": "stderr",
     "output_type": "stream",
     "text": [
      "[I 2025-08-05 10:31:03,467] Trial 3 finished with value: 0.6842105263157895 and parameters: {'filters': 128, 'kernel_size': 8, 'stride': 1, 'dense_units': 64}. Best is trial 2 with value: 0.7236842105263158.\n"
     ]
    },
    {
     "name": "stdout",
     "output_type": "stream",
     "text": [
      "\u001b[1m3/3\u001b[0m \u001b[32m━━━━━━━━━━━━━━━━━━━━\u001b[0m\u001b[37m\u001b[0m \u001b[1m0s\u001b[0m 29ms/step\n"
     ]
    },
    {
     "name": "stderr",
     "output_type": "stream",
     "text": [
      "[I 2025-08-05 10:31:15,215] Trial 4 finished with value: 0.6973684210526315 and parameters: {'filters': 64, 'kernel_size': 16, 'stride': 1, 'dense_units': 128}. Best is trial 2 with value: 0.7236842105263158.\n"
     ]
    },
    {
     "name": "stdout",
     "output_type": "stream",
     "text": [
      "\u001b[1m3/3\u001b[0m \u001b[32m━━━━━━━━━━━━━━━━━━━━\u001b[0m\u001b[37m\u001b[0m \u001b[1m0s\u001b[0m 26ms/step\n"
     ]
    },
    {
     "name": "stderr",
     "output_type": "stream",
     "text": [
      "[I 2025-08-05 10:31:27,671] Trial 5 finished with value: 0.6447368421052632 and parameters: {'filters': 64, 'kernel_size': 16, 'stride': 1, 'dense_units': 128}. Best is trial 2 with value: 0.7236842105263158.\n"
     ]
    },
    {
     "name": "stdout",
     "output_type": "stream",
     "text": [
      "\u001b[1m3/3\u001b[0m \u001b[32m━━━━━━━━━━━━━━━━━━━━\u001b[0m\u001b[37m\u001b[0m \u001b[1m0s\u001b[0m 35ms/step\n"
     ]
    },
    {
     "name": "stderr",
     "output_type": "stream",
     "text": [
      "[I 2025-08-05 10:31:42,030] Trial 6 finished with value: 0.6842105263157895 and parameters: {'filters': 128, 'kernel_size': 16, 'stride': 1, 'dense_units': 64}. Best is trial 2 with value: 0.7236842105263158.\n"
     ]
    },
    {
     "name": "stdout",
     "output_type": "stream",
     "text": [
      "\u001b[1m3/3\u001b[0m \u001b[32m━━━━━━━━━━━━━━━━━━━━\u001b[0m\u001b[37m\u001b[0m \u001b[1m0s\u001b[0m 27ms/step\n"
     ]
    },
    {
     "name": "stderr",
     "output_type": "stream",
     "text": [
      "[I 2025-08-05 10:31:51,092] Trial 7 finished with value: 0.6842105263157895 and parameters: {'filters': 64, 'kernel_size': 16, 'stride': 1, 'dense_units': 64}. Best is trial 2 with value: 0.7236842105263158.\n"
     ]
    },
    {
     "name": "stdout",
     "output_type": "stream",
     "text": [
      "\u001b[1m3/3\u001b[0m \u001b[32m━━━━━━━━━━━━━━━━━━━━\u001b[0m\u001b[37m\u001b[0m \u001b[1m0s\u001b[0m 123ms/step\n"
     ]
    },
    {
     "name": "stderr",
     "output_type": "stream",
     "text": [
      "[I 2025-08-05 10:32:30,327] Trial 8 finished with value: 0.7368421052631579 and parameters: {'filters': 128, 'kernel_size': 2, 'stride': 1, 'dense_units': 128}. Best is trial 8 with value: 0.7368421052631579.\n"
     ]
    },
    {
     "name": "stdout",
     "output_type": "stream",
     "text": [
      "\u001b[1m3/3\u001b[0m \u001b[32m━━━━━━━━━━━━━━━━━━━━\u001b[0m\u001b[37m\u001b[0m \u001b[1m0s\u001b[0m 36ms/step\n"
     ]
    },
    {
     "name": "stderr",
     "output_type": "stream",
     "text": [
      "[I 2025-08-05 10:32:54,359] Trial 9 finished with value: 0.7368421052631579 and parameters: {'filters': 64, 'kernel_size': 2, 'stride': 1, 'dense_units': 128}. Best is trial 8 with value: 0.7368421052631579.\n"
     ]
    },
    {
     "name": "stdout",
     "output_type": "stream",
     "text": [
      "\u001b[1m3/3\u001b[0m \u001b[32m━━━━━━━━━━━━━━━━━━━━\u001b[0m\u001b[37m\u001b[0m \u001b[1m0s\u001b[0m 38ms/step\n"
     ]
    },
    {
     "name": "stderr",
     "output_type": "stream",
     "text": [
      "[I 2025-08-05 10:33:03,922] Trial 10 finished with value: 0.6710526315789473 and parameters: {'filters': 32, 'kernel_size': 2, 'stride': 1, 'dense_units': 128}. Best is trial 8 with value: 0.7368421052631579.\n"
     ]
    },
    {
     "name": "stdout",
     "output_type": "stream",
     "text": [
      "\u001b[1m3/3\u001b[0m \u001b[32m━━━━━━━━━━━━━━━━━━━━\u001b[0m\u001b[37m\u001b[0m \u001b[1m0s\u001b[0m 37ms/step\n"
     ]
    },
    {
     "name": "stderr",
     "output_type": "stream",
     "text": [
      "[I 2025-08-05 10:33:14,761] Trial 11 finished with value: 0.6973684210526315 and parameters: {'filters': 32, 'kernel_size': 2, 'stride': 1, 'dense_units': 128}. Best is trial 8 with value: 0.7368421052631579.\n"
     ]
    },
    {
     "name": "stdout",
     "output_type": "stream",
     "text": [
      "\u001b[1m3/3\u001b[0m \u001b[32m━━━━━━━━━━━━━━━━━━━━\u001b[0m\u001b[37m\u001b[0m \u001b[1m0s\u001b[0m 40ms/step\n"
     ]
    },
    {
     "name": "stderr",
     "output_type": "stream",
     "text": [
      "[I 2025-08-05 10:33:49,989] Trial 12 finished with value: 0.6710526315789473 and parameters: {'filters': 128, 'kernel_size': 2, 'stride': 1, 'dense_units': 128}. Best is trial 8 with value: 0.7368421052631579.\n"
     ]
    },
    {
     "name": "stdout",
     "output_type": "stream",
     "text": [
      "\u001b[1m3/3\u001b[0m \u001b[32m━━━━━━━━━━━━━━━━━━━━\u001b[0m\u001b[37m\u001b[0m \u001b[1m0s\u001b[0m 39ms/step\n"
     ]
    },
    {
     "name": "stderr",
     "output_type": "stream",
     "text": [
      "[I 2025-08-05 10:34:08,384] Trial 13 finished with value: 0.6052631578947368 and parameters: {'filters': 128, 'kernel_size': 2, 'stride': 1, 'dense_units': 128}. Best is trial 8 with value: 0.7368421052631579.\n"
     ]
    },
    {
     "name": "stdout",
     "output_type": "stream",
     "text": [
      "\u001b[1m3/3\u001b[0m \u001b[32m━━━━━━━━━━━━━━━━━━━━\u001b[0m\u001b[37m\u001b[0m \u001b[1m0s\u001b[0m 23ms/step\n"
     ]
    },
    {
     "name": "stderr",
     "output_type": "stream",
     "text": [
      "[I 2025-08-05 10:34:12,752] Trial 14 finished with value: 0.6052631578947368 and parameters: {'filters': 32, 'kernel_size': 2, 'stride': 1, 'dense_units': 128}. Best is trial 8 with value: 0.7368421052631579.\n"
     ]
    },
    {
     "name": "stdout",
     "output_type": "stream",
     "text": [
      "\u001b[1m3/3\u001b[0m \u001b[32m━━━━━━━━━━━━━━━━━━━━\u001b[0m\u001b[37m\u001b[0m \u001b[1m0s\u001b[0m 31ms/step\n"
     ]
    },
    {
     "name": "stderr",
     "output_type": "stream",
     "text": [
      "[I 2025-08-05 10:34:24,606] Trial 15 finished with value: 0.6710526315789473 and parameters: {'filters': 64, 'kernel_size': 2, 'stride': 1, 'dense_units': 128}. Best is trial 8 with value: 0.7368421052631579.\n"
     ]
    },
    {
     "name": "stdout",
     "output_type": "stream",
     "text": [
      "\u001b[1m3/3\u001b[0m \u001b[32m━━━━━━━━━━━━━━━━━━━━\u001b[0m\u001b[37m\u001b[0m \u001b[1m0s\u001b[0m 41ms/step\n"
     ]
    },
    {
     "name": "stderr",
     "output_type": "stream",
     "text": [
      "[I 2025-08-05 10:34:51,329] Trial 16 finished with value: 0.6842105263157895 and parameters: {'filters': 128, 'kernel_size': 2, 'stride': 1, 'dense_units': 128}. Best is trial 8 with value: 0.7368421052631579.\n"
     ]
    },
    {
     "name": "stdout",
     "output_type": "stream",
     "text": [
      "\u001b[1m3/3\u001b[0m \u001b[32m━━━━━━━━━━━━━━━━━━━━\u001b[0m\u001b[37m\u001b[0m \u001b[1m0s\u001b[0m 31ms/step\n"
     ]
    },
    {
     "name": "stderr",
     "output_type": "stream",
     "text": [
      "[I 2025-08-05 10:35:03,816] Trial 17 finished with value: 0.7236842105263158 and parameters: {'filters': 64, 'kernel_size': 8, 'stride': 1, 'dense_units': 128}. Best is trial 8 with value: 0.7368421052631579.\n"
     ]
    },
    {
     "name": "stdout",
     "output_type": "stream",
     "text": [
      "\u001b[1m3/3\u001b[0m \u001b[32m━━━━━━━━━━━━━━━━━━━━\u001b[0m\u001b[37m\u001b[0m \u001b[1m0s\u001b[0m 38ms/step\n"
     ]
    },
    {
     "name": "stderr",
     "output_type": "stream",
     "text": [
      "[I 2025-08-05 10:35:19,632] Trial 18 finished with value: 0.5526315789473685 and parameters: {'filters': 128, 'kernel_size': 2, 'stride': 1, 'dense_units': 128}. Best is trial 8 with value: 0.7368421052631579.\n"
     ]
    },
    {
     "name": "stdout",
     "output_type": "stream",
     "text": [
      "\u001b[1m3/3\u001b[0m \u001b[32m━━━━━━━━━━━━━━━━━━━━\u001b[0m\u001b[37m\u001b[0m \u001b[1m0s\u001b[0m 22ms/step\n"
     ]
    },
    {
     "name": "stderr",
     "output_type": "stream",
     "text": [
      "[I 2025-08-05 10:35:24,389] Trial 19 finished with value: 0.6973684210526315 and parameters: {'filters': 32, 'kernel_size': 2, 'stride': 1, 'dense_units': 128}. Best is trial 8 with value: 0.7368421052631579.\n"
     ]
    },
    {
     "name": "stdout",
     "output_type": "stream",
     "text": [
      "\u001b[1m3/3\u001b[0m \u001b[32m━━━━━━━━━━━━━━━━━━━━\u001b[0m\u001b[37m\u001b[0m \u001b[1m1s\u001b[0m 155ms/step\n"
     ]
    },
    {
     "name": "stderr",
     "output_type": "stream",
     "text": [
      "[I 2025-08-05 10:36:25,234] Trial 20 finished with value: 0.6710526315789473 and parameters: {'filters': 128, 'kernel_size': 8, 'stride': 1, 'dense_units': 128}. Best is trial 8 with value: 0.7368421052631579.\n"
     ]
    },
    {
     "name": "stdout",
     "output_type": "stream",
     "text": [
      "\u001b[1m3/3\u001b[0m \u001b[32m━━━━━━━━━━━━━━━━━━━━\u001b[0m\u001b[37m\u001b[0m \u001b[1m0s\u001b[0m 31ms/step\n"
     ]
    },
    {
     "name": "stderr",
     "output_type": "stream",
     "text": [
      "[I 2025-08-05 10:36:38,442] Trial 21 finished with value: 0.6578947368421053 and parameters: {'filters': 64, 'kernel_size': 2, 'stride': 1, 'dense_units': 128}. Best is trial 8 with value: 0.7368421052631579.\n"
     ]
    },
    {
     "name": "stdout",
     "output_type": "stream",
     "text": [
      "\u001b[1m3/3\u001b[0m \u001b[32m━━━━━━━━━━━━━━━━━━━━\u001b[0m\u001b[37m\u001b[0m \u001b[1m0s\u001b[0m 99ms/step\n"
     ]
    },
    {
     "name": "stderr",
     "output_type": "stream",
     "text": [
      "[I 2025-08-05 10:37:00,784] Trial 22 finished with value: 0.7236842105263158 and parameters: {'filters': 64, 'kernel_size': 2, 'stride': 1, 'dense_units': 128}. Best is trial 8 with value: 0.7368421052631579.\n"
     ]
    },
    {
     "name": "stdout",
     "output_type": "stream",
     "text": [
      "\u001b[1m3/3\u001b[0m \u001b[32m━━━━━━━━━━━━━━━━━━━━\u001b[0m\u001b[37m\u001b[0m \u001b[1m1s\u001b[0m 146ms/step\n"
     ]
    },
    {
     "name": "stderr",
     "output_type": "stream",
     "text": [
      "[I 2025-08-05 10:37:51,267] Trial 23 finished with value: 0.7631578947368421 and parameters: {'filters': 64, 'kernel_size': 2, 'stride': 1, 'dense_units': 128}. Best is trial 23 with value: 0.7631578947368421.\n"
     ]
    },
    {
     "name": "stdout",
     "output_type": "stream",
     "text": [
      "\u001b[1m3/3\u001b[0m \u001b[32m━━━━━━━━━━━━━━━━━━━━\u001b[0m\u001b[37m\u001b[0m \u001b[1m1s\u001b[0m 167ms/step\n"
     ]
    },
    {
     "name": "stderr",
     "output_type": "stream",
     "text": [
      "[I 2025-08-05 10:38:55,827] Trial 24 finished with value: 0.6710526315789473 and parameters: {'filters': 64, 'kernel_size': 2, 'stride': 1, 'dense_units': 128}. Best is trial 23 with value: 0.7631578947368421.\n"
     ]
    },
    {
     "name": "stdout",
     "output_type": "stream",
     "text": [
      "\u001b[1m3/3\u001b[0m \u001b[32m━━━━━━━━━━━━━━━━━━━━\u001b[0m\u001b[37m\u001b[0m \u001b[1m0s\u001b[0m 129ms/step\n"
     ]
    },
    {
     "name": "stderr",
     "output_type": "stream",
     "text": [
      "[I 2025-08-05 10:39:52,492] Trial 25 finished with value: 0.7236842105263158 and parameters: {'filters': 64, 'kernel_size': 2, 'stride': 1, 'dense_units': 128}. Best is trial 23 with value: 0.7631578947368421.\n"
     ]
    },
    {
     "name": "stdout",
     "output_type": "stream",
     "text": [
      "\u001b[1m3/3\u001b[0m \u001b[32m━━━━━━━━━━━━━━━━━━━━\u001b[0m\u001b[37m\u001b[0m \u001b[1m1s\u001b[0m 181ms/step\n"
     ]
    },
    {
     "name": "stderr",
     "output_type": "stream",
     "text": [
      "[I 2025-08-05 10:40:14,441] Trial 26 finished with value: 0.75 and parameters: {'filters': 64, 'kernel_size': 2, 'stride': 1, 'dense_units': 64}. Best is trial 23 with value: 0.7631578947368421.\n"
     ]
    },
    {
     "name": "stdout",
     "output_type": "stream",
     "text": [
      "\u001b[1m3/3\u001b[0m \u001b[32m━━━━━━━━━━━━━━━━━━━━\u001b[0m\u001b[37m\u001b[0m \u001b[1m0s\u001b[0m 84ms/step\n"
     ]
    },
    {
     "name": "stderr",
     "output_type": "stream",
     "text": [
      "[I 2025-08-05 10:40:28,650] Trial 27 finished with value: 0.5394736842105263 and parameters: {'filters': 64, 'kernel_size': 2, 'stride': 1, 'dense_units': 64}. Best is trial 23 with value: 0.7631578947368421.\n"
     ]
    },
    {
     "name": "stdout",
     "output_type": "stream",
     "text": [
      "\u001b[1m3/3\u001b[0m \u001b[32m━━━━━━━━━━━━━━━━━━━━\u001b[0m\u001b[37m\u001b[0m \u001b[1m0s\u001b[0m 57ms/step\n"
     ]
    },
    {
     "name": "stderr",
     "output_type": "stream",
     "text": [
      "[I 2025-08-05 10:40:36,757] Trial 28 finished with value: 0.6447368421052632 and parameters: {'filters': 32, 'kernel_size': 8, 'stride': 1, 'dense_units': 64}. Best is trial 23 with value: 0.7631578947368421.\n"
     ]
    },
    {
     "name": "stdout",
     "output_type": "stream",
     "text": [
      "\u001b[1m3/3\u001b[0m \u001b[32m━━━━━━━━━━━━━━━━━━━━\u001b[0m\u001b[37m\u001b[0m \u001b[1m0s\u001b[0m 59ms/step\n"
     ]
    },
    {
     "name": "stderr",
     "output_type": "stream",
     "text": [
      "[I 2025-08-05 10:40:55,500] Trial 29 finished with value: 0.7368421052631579 and parameters: {'filters': 128, 'kernel_size': 2, 'stride': 1, 'dense_units': 64}. Best is trial 23 with value: 0.7631578947368421.\n"
     ]
    },
    {
     "name": "stdout",
     "output_type": "stream",
     "text": [
      "\u001b[1m3/3\u001b[0m \u001b[32m━━━━━━━━━━━━━━━━━━━━\u001b[0m\u001b[37m\u001b[0m \u001b[1m0s\u001b[0m 50ms/step\n"
     ]
    },
    {
     "name": "stderr",
     "output_type": "stream",
     "text": [
      "[I 2025-08-05 10:41:10,871] Trial 30 finished with value: 0.6842105263157895 and parameters: {'filters': 64, 'kernel_size': 16, 'stride': 1, 'dense_units': 64}. Best is trial 23 with value: 0.7631578947368421.\n"
     ]
    },
    {
     "name": "stdout",
     "output_type": "stream",
     "text": [
      "\u001b[1m3/3\u001b[0m \u001b[32m━━━━━━━━━━━━━━━━━━━━\u001b[0m\u001b[37m\u001b[0m \u001b[1m0s\u001b[0m 48ms/step\n"
     ]
    },
    {
     "name": "stderr",
     "output_type": "stream",
     "text": [
      "[I 2025-08-05 10:41:22,281] Trial 31 finished with value: 0.7236842105263158 and parameters: {'filters': 64, 'kernel_size': 2, 'stride': 1, 'dense_units': 64}. Best is trial 23 with value: 0.7631578947368421.\n"
     ]
    },
    {
     "name": "stdout",
     "output_type": "stream",
     "text": [
      "\u001b[1m3/3\u001b[0m \u001b[32m━━━━━━━━━━━━━━━━━━━━\u001b[0m\u001b[37m\u001b[0m \u001b[1m0s\u001b[0m 57ms/step\n"
     ]
    },
    {
     "name": "stderr",
     "output_type": "stream",
     "text": [
      "[I 2025-08-05 10:41:33,524] Trial 32 finished with value: 0.6842105263157895 and parameters: {'filters': 64, 'kernel_size': 2, 'stride': 1, 'dense_units': 64}. Best is trial 23 with value: 0.7631578947368421.\n"
     ]
    },
    {
     "name": "stdout",
     "output_type": "stream",
     "text": [
      "\u001b[1m3/3\u001b[0m \u001b[32m━━━━━━━━━━━━━━━━━━━━\u001b[0m\u001b[37m\u001b[0m \u001b[1m0s\u001b[0m 51ms/step\n"
     ]
    },
    {
     "name": "stderr",
     "output_type": "stream",
     "text": [
      "[I 2025-08-05 10:41:46,830] Trial 33 finished with value: 0.6447368421052632 and parameters: {'filters': 64, 'kernel_size': 2, 'stride': 1, 'dense_units': 128}. Best is trial 23 with value: 0.7631578947368421.\n"
     ]
    },
    {
     "name": "stdout",
     "output_type": "stream",
     "text": [
      "\u001b[1m3/3\u001b[0m \u001b[32m━━━━━━━━━━━━━━━━━━━━\u001b[0m\u001b[37m\u001b[0m \u001b[1m0s\u001b[0m 60ms/step\n"
     ]
    },
    {
     "name": "stderr",
     "output_type": "stream",
     "text": [
      "[I 2025-08-05 10:41:53,979] Trial 34 finished with value: 0.5394736842105263 and parameters: {'filters': 64, 'kernel_size': 2, 'stride': 1, 'dense_units': 64}. Best is trial 23 with value: 0.7631578947368421.\n"
     ]
    },
    {
     "name": "stdout",
     "output_type": "stream",
     "text": [
      "\u001b[1m3/3\u001b[0m \u001b[32m━━━━━━━━━━━━━━━━━━━━\u001b[0m\u001b[37m\u001b[0m \u001b[1m0s\u001b[0m 51ms/step\n"
     ]
    },
    {
     "name": "stderr",
     "output_type": "stream",
     "text": [
      "[I 2025-08-05 10:42:17,033] Trial 35 finished with value: 0.7105263157894737 and parameters: {'filters': 64, 'kernel_size': 8, 'stride': 1, 'dense_units': 128}. Best is trial 23 with value: 0.7631578947368421.\n"
     ]
    },
    {
     "name": "stdout",
     "output_type": "stream",
     "text": [
      "\u001b[1m3/3\u001b[0m \u001b[32m━━━━━━━━━━━━━━━━━━━━\u001b[0m\u001b[37m\u001b[0m \u001b[1m0s\u001b[0m 99ms/step\n"
     ]
    },
    {
     "name": "stderr",
     "output_type": "stream",
     "text": [
      "[I 2025-08-05 10:42:53,577] Trial 36 finished with value: 0.7236842105263158 and parameters: {'filters': 128, 'kernel_size': 2, 'stride': 1, 'dense_units': 64}. Best is trial 23 with value: 0.7631578947368421.\n"
     ]
    },
    {
     "name": "stdout",
     "output_type": "stream",
     "text": [
      "\u001b[1m3/3\u001b[0m \u001b[32m━━━━━━━━━━━━━━━━━━━━\u001b[0m\u001b[37m\u001b[0m \u001b[1m0s\u001b[0m 30ms/step\n"
     ]
    },
    {
     "name": "stderr",
     "output_type": "stream",
     "text": [
      "[I 2025-08-05 10:43:09,469] Trial 37 finished with value: 0.7368421052631579 and parameters: {'filters': 64, 'kernel_size': 2, 'stride': 1, 'dense_units': 128}. Best is trial 23 with value: 0.7631578947368421.\n"
     ]
    },
    {
     "name": "stdout",
     "output_type": "stream",
     "text": [
      "\u001b[1m3/3\u001b[0m \u001b[32m━━━━━━━━━━━━━━━━━━━━\u001b[0m\u001b[37m\u001b[0m \u001b[1m0s\u001b[0m 32ms/step\n"
     ]
    },
    {
     "name": "stderr",
     "output_type": "stream",
     "text": [
      "[I 2025-08-05 10:43:20,003] Trial 38 finished with value: 0.6842105263157895 and parameters: {'filters': 64, 'kernel_size': 16, 'stride': 1, 'dense_units': 128}. Best is trial 23 with value: 0.7631578947368421.\n"
     ]
    },
    {
     "name": "stdout",
     "output_type": "stream",
     "text": [
      "\u001b[1m3/3\u001b[0m \u001b[32m━━━━━━━━━━━━━━━━━━━━\u001b[0m\u001b[37m\u001b[0m \u001b[1m0s\u001b[0m 36ms/step\n"
     ]
    },
    {
     "name": "stderr",
     "output_type": "stream",
     "text": [
      "[I 2025-08-05 10:43:33,687] Trial 39 finished with value: 0.75 and parameters: {'filters': 128, 'kernel_size': 2, 'stride': 1, 'dense_units': 64}. Best is trial 23 with value: 0.7631578947368421.\n"
     ]
    },
    {
     "name": "stdout",
     "output_type": "stream",
     "text": [
      "\u001b[1m3/3\u001b[0m \u001b[32m━━━━━━━━━━━━━━━━━━━━\u001b[0m\u001b[37m\u001b[0m \u001b[1m0s\u001b[0m 36ms/step\n"
     ]
    },
    {
     "name": "stderr",
     "output_type": "stream",
     "text": [
      "[I 2025-08-05 10:43:46,668] Trial 40 finished with value: 0.7236842105263158 and parameters: {'filters': 128, 'kernel_size': 16, 'stride': 1, 'dense_units': 64}. Best is trial 23 with value: 0.7631578947368421.\n"
     ]
    },
    {
     "name": "stdout",
     "output_type": "stream",
     "text": [
      "\u001b[1m3/3\u001b[0m \u001b[32m━━━━━━━━━━━━━━━━━━━━\u001b[0m\u001b[37m\u001b[0m \u001b[1m0s\u001b[0m 42ms/step\n"
     ]
    },
    {
     "name": "stderr",
     "output_type": "stream",
     "text": [
      "[I 2025-08-05 10:44:02,998] Trial 41 finished with value: 0.618421052631579 and parameters: {'filters': 128, 'kernel_size': 2, 'stride': 1, 'dense_units': 64}. Best is trial 23 with value: 0.7631578947368421.\n"
     ]
    },
    {
     "name": "stdout",
     "output_type": "stream",
     "text": [
      "\u001b[1m3/3\u001b[0m \u001b[32m━━━━━━━━━━━━━━━━━━━━\u001b[0m\u001b[37m\u001b[0m \u001b[1m0s\u001b[0m 40ms/step\n"
     ]
    },
    {
     "name": "stderr",
     "output_type": "stream",
     "text": [
      "[I 2025-08-05 10:44:20,788] Trial 42 finished with value: 0.6973684210526315 and parameters: {'filters': 128, 'kernel_size': 2, 'stride': 1, 'dense_units': 64}. Best is trial 23 with value: 0.7631578947368421.\n"
     ]
    },
    {
     "name": "stdout",
     "output_type": "stream",
     "text": [
      "\u001b[1m3/3\u001b[0m \u001b[32m━━━━━━━━━━━━━━━━━━━━\u001b[0m\u001b[37m\u001b[0m \u001b[1m1s\u001b[0m 168ms/step\n"
     ]
    },
    {
     "name": "stderr",
     "output_type": "stream",
     "text": [
      "[I 2025-08-05 10:45:43,023] Trial 43 finished with value: 0.7105263157894737 and parameters: {'filters': 128, 'kernel_size': 2, 'stride': 1, 'dense_units': 64}. Best is trial 23 with value: 0.7631578947368421.\n"
     ]
    },
    {
     "name": "stdout",
     "output_type": "stream",
     "text": [
      "\u001b[1m3/3\u001b[0m \u001b[32m━━━━━━━━━━━━━━━━━━━━\u001b[0m\u001b[37m\u001b[0m \u001b[1m1s\u001b[0m 180ms/step\n"
     ]
    },
    {
     "name": "stderr",
     "output_type": "stream",
     "text": [
      "[I 2025-08-05 10:47:03,226] Trial 44 finished with value: 0.7236842105263158 and parameters: {'filters': 128, 'kernel_size': 2, 'stride': 1, 'dense_units': 64}. Best is trial 23 with value: 0.7631578947368421.\n"
     ]
    },
    {
     "name": "stdout",
     "output_type": "stream",
     "text": [
      "\u001b[1m3/3\u001b[0m \u001b[32m━━━━━━━━━━━━━━━━━━━━\u001b[0m\u001b[37m\u001b[0m \u001b[1m0s\u001b[0m 110ms/step\n"
     ]
    },
    {
     "name": "stderr",
     "output_type": "stream",
     "text": [
      "[I 2025-08-05 10:47:33,034] Trial 45 finished with value: 0.6842105263157895 and parameters: {'filters': 32, 'kernel_size': 2, 'stride': 1, 'dense_units': 128}. Best is trial 23 with value: 0.7631578947368421.\n"
     ]
    },
    {
     "name": "stdout",
     "output_type": "stream",
     "text": [
      "\u001b[1m3/3\u001b[0m \u001b[32m━━━━━━━━━━━━━━━━━━━━\u001b[0m\u001b[37m\u001b[0m \u001b[1m0s\u001b[0m 99ms/step\n"
     ]
    },
    {
     "name": "stderr",
     "output_type": "stream",
     "text": [
      "[I 2025-08-05 10:48:06,334] Trial 46 finished with value: 0.6578947368421053 and parameters: {'filters': 128, 'kernel_size': 2, 'stride': 1, 'dense_units': 64}. Best is trial 23 with value: 0.7631578947368421.\n"
     ]
    },
    {
     "name": "stdout",
     "output_type": "stream",
     "text": [
      "\u001b[1m3/3\u001b[0m \u001b[32m━━━━━━━━━━━━━━━━━━━━\u001b[0m\u001b[37m\u001b[0m \u001b[1m0s\u001b[0m 59ms/step\n"
     ]
    },
    {
     "name": "stderr",
     "output_type": "stream",
     "text": [
      "[I 2025-08-05 10:48:37,232] Trial 47 finished with value: 0.6973684210526315 and parameters: {'filters': 64, 'kernel_size': 8, 'stride': 1, 'dense_units': 128}. Best is trial 23 with value: 0.7631578947368421.\n"
     ]
    },
    {
     "name": "stdout",
     "output_type": "stream",
     "text": [
      "\u001b[1m3/3\u001b[0m \u001b[32m━━━━━━━━━━━━━━━━━━━━\u001b[0m\u001b[37m\u001b[0m \u001b[1m0s\u001b[0m 63ms/step\n"
     ]
    },
    {
     "name": "stderr",
     "output_type": "stream",
     "text": [
      "[I 2025-08-05 10:48:56,792] Trial 48 finished with value: 0.7105263157894737 and parameters: {'filters': 64, 'kernel_size': 2, 'stride': 1, 'dense_units': 128}. Best is trial 23 with value: 0.7631578947368421.\n"
     ]
    },
    {
     "name": "stdout",
     "output_type": "stream",
     "text": [
      "\u001b[1m3/3\u001b[0m \u001b[32m━━━━━━━━━━━━━━━━━━━━\u001b[0m\u001b[37m\u001b[0m \u001b[1m1s\u001b[0m 114ms/step\n"
     ]
    },
    {
     "name": "stderr",
     "output_type": "stream",
     "text": [
      "[I 2025-08-05 10:49:29,381] Trial 49 finished with value: 0.6842105263157895 and parameters: {'filters': 128, 'kernel_size': 16, 'stride': 1, 'dense_units': 128}. Best is trial 23 with value: 0.7631578947368421.\n"
     ]
    },
    {
     "name": "stdout",
     "output_type": "stream",
     "text": [
      "Best Params: {'filters': 64, 'kernel_size': 2, 'stride': 1, 'dense_units': 128}\n",
      "Best Val Accuracy: 0.7631578947368421\n"
     ]
    }
   ],
   "source": [
    "import optuna\n",
    "import pandas as pd\n",
    "import numpy as np\n",
    "from pathlib import Path\n",
    "from sklearn.model_selection import train_test_split\n",
    "from sklearn.metrics import accuracy_score\n",
    "from tensorflow.keras.models import Sequential\n",
    "from tensorflow.keras.layers import Input, Conv1D, MaxPooling1D, Flatten, Dense, Dropout\n",
    "from tensorflow.keras.optimizers import Adam\n",
    "from tensorflow.keras.callbacks import EarlyStopping\n",
    "\n",
    "# === Load your split data ===\n",
    "base_path = Path(\"/Users/tusharsingh/Work/Project/tcga-mldl/results/data/data_splits/15pct_70\")\n",
    "X_train = pd.read_csv(base_path / \"X_train.csv\", index_col=0)\n",
    "X_test = pd.read_csv(base_path / \"X_test.csv\", index_col=0)\n",
    "y_train = pd.read_csv(base_path / \"y_train.csv\", index_col=0).squeeze()\n",
    "y_test = pd.read_csv(base_path / \"y_test.csv\", index_col=0).squeeze()\n",
    "\n",
    "# === Split test into validation and test ===\n",
    "X_val, X_final_test, y_val, y_final_test = train_test_split(\n",
    "    X_test, y_test, test_size=0.5, stratify=y_test, random_state=42\n",
    ")\n",
    "\n",
    "X_train_np = X_train.values\n",
    "y_train_np = y_train.values\n",
    "X_val_np = X_val.values\n",
    "y_val_np = y_val.values\n",
    "\n",
    "# === Build CNN model with trial params ===\n",
    "def build_model(trial):\n",
    "    model = Sequential([\n",
    "        Input(shape=(X_train_np.shape[1], 1)),\n",
    "        Conv1D(\n",
    "            filters=trial.suggest_categorical(\"filters\", [32, 64, 128]),\n",
    "            kernel_size=trial.suggest_categorical(\"kernel_size\", [2, 8, 16]),\n",
    "            strides=trial.suggest_categorical(\"stride\", [1]),\n",
    "            activation='relu'\n",
    "        ),\n",
    "        MaxPooling1D(pool_size=2),\n",
    "        Flatten(),\n",
    "        Dense(trial.suggest_categorical(\"dense_units\", [64,128]), activation='relu'),\n",
    "        Dropout(0.07),\n",
    "        Dense(1, activation='sigmoid')\n",
    "    ])\n",
    "    model.compile(\n",
    "        optimizer=Adam(learning_rate=1e-3),\n",
    "        loss='binary_crossentropy',\n",
    "        metrics=['accuracy']\n",
    "    )\n",
    "    return model\n",
    "\n",
    "# === Objective for tuning ===\n",
    "def objective(trial):\n",
    "    model = build_model(trial)\n",
    "    early_stop = EarlyStopping(monitor='val_loss', patience=5, restore_best_weights=True, verbose=0)\n",
    "    model.fit(\n",
    "        X_train_np[..., np.newaxis], y_train_np,\n",
    "        validation_data=(X_val_np[..., np.newaxis], y_val_np),\n",
    "        epochs=30, batch_size=64, verbose=0,\n",
    "        callbacks=[early_stop]\n",
    "    )\n",
    "    y_pred = (model.predict(X_val_np[..., np.newaxis]) > 0.5).astype(int).flatten()\n",
    "    return accuracy_score(y_val_np, y_pred)\n",
    "\n",
    "# === Run study ===\n",
    "study = optuna.create_study(direction='maximize')\n",
    "study.optimize(objective, n_trials=50)\n",
    "\n",
    "print(\"Best Params:\", study.best_params)\n",
    "print(\"Best Val Accuracy:\", study.best_value)\n"
   ]
  },
  {
   "cell_type": "code",
   "execution_count": null,
   "metadata": {},
   "outputs": [],
   "source": []
  },
  {
   "cell_type": "code",
   "execution_count": null,
   "metadata": {},
   "outputs": [],
   "source": []
  }
 ],
 "metadata": {
  "kernelspec": {
   "display_name": "ML_practice",
   "language": "python",
   "name": "python3"
  },
  "language_info": {
   "codemirror_mode": {
    "name": "ipython",
    "version": 3
   },
   "file_extension": ".py",
   "mimetype": "text/x-python",
   "name": "python",
   "nbconvert_exporter": "python",
   "pygments_lexer": "ipython3",
   "version": "3.11.8"
  }
 },
 "nbformat": 4,
 "nbformat_minor": 2
}
