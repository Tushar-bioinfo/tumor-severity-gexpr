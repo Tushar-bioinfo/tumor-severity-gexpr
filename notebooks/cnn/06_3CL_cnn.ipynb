{
 "cells": [
  {
   "cell_type": "code",
   "execution_count": 14,
   "metadata": {},
   "outputs": [
    {
     "name": "stderr",
     "output_type": "stream",
     "text": [
      "[I 2025-08-03 01:08:44,433] A new study created in memory with name: no-name-6194220b-ba95-4f07-b953-98a6c385da83\n"
     ]
    },
    {
     "name": "stdout",
     "output_type": "stream",
     "text": [
      "\u001b[1m1/1\u001b[0m \u001b[32m━━━━━━━━━━━━━━━━━━━━\u001b[0m\u001b[37m\u001b[0m \u001b[1m0s\u001b[0m 97ms/step\n"
     ]
    },
    {
     "name": "stderr",
     "output_type": "stream",
     "text": [
      "[I 2025-08-03 01:08:55,928] Trial 0 finished with value: 0.5490196078431373 and parameters: {'dropout_rate': 0.3233460611780179, 'learning_rate': 0.00028852304433527254}. Best is trial 0 with value: 0.5490196078431373.\n"
     ]
    },
    {
     "name": "stdout",
     "output_type": "stream",
     "text": [
      "\u001b[1m1/1\u001b[0m \u001b[32m━━━━━━━━━━━━━━━━━━━━\u001b[0m\u001b[37m\u001b[0m \u001b[1m0s\u001b[0m 66ms/step\n"
     ]
    },
    {
     "name": "stderr",
     "output_type": "stream",
     "text": [
      "[I 2025-08-03 01:09:07,343] Trial 1 finished with value: 0.7254901960784313 and parameters: {'dropout_rate': 0.2829822584491715, 'learning_rate': 0.0002550441903004924}. Best is trial 1 with value: 0.7254901960784313.\n"
     ]
    },
    {
     "name": "stdout",
     "output_type": "stream",
     "text": [
      "\u001b[1m1/1\u001b[0m \u001b[32m━━━━━━━━━━━━━━━━━━━━\u001b[0m\u001b[37m\u001b[0m \u001b[1m0s\u001b[0m 64ms/step\n"
     ]
    },
    {
     "name": "stderr",
     "output_type": "stream",
     "text": [
      "[I 2025-08-03 01:09:18,284] Trial 2 finished with value: 0.7843137254901961 and parameters: {'dropout_rate': 0.41655036681085594, 'learning_rate': 0.00012432944894328796}. Best is trial 2 with value: 0.7843137254901961.\n"
     ]
    },
    {
     "name": "stdout",
     "output_type": "stream",
     "text": [
      "\u001b[1m1/1\u001b[0m \u001b[32m━━━━━━━━━━━━━━━━━━━━\u001b[0m\u001b[37m\u001b[0m \u001b[1m0s\u001b[0m 66ms/step\n"
     ]
    },
    {
     "name": "stderr",
     "output_type": "stream",
     "text": [
      "[I 2025-08-03 01:09:29,256] Trial 3 finished with value: 0.6862745098039216 and parameters: {'dropout_rate': 0.40844992182984696, 'learning_rate': 0.0007043232069702271}. Best is trial 2 with value: 0.7843137254901961.\n"
     ]
    },
    {
     "name": "stdout",
     "output_type": "stream",
     "text": [
      "\u001b[1m1/1\u001b[0m \u001b[32m━━━━━━━━━━━━━━━━━━━━\u001b[0m\u001b[37m\u001b[0m \u001b[1m0s\u001b[0m 62ms/step\n"
     ]
    },
    {
     "name": "stderr",
     "output_type": "stream",
     "text": [
      "[I 2025-08-03 01:09:40,329] Trial 4 finished with value: 0.7450980392156863 and parameters: {'dropout_rate': 0.4135074960796372, 'learning_rate': 0.00011465509390826581}. Best is trial 2 with value: 0.7843137254901961.\n"
     ]
    },
    {
     "name": "stdout",
     "output_type": "stream",
     "text": [
      "\u001b[1m1/1\u001b[0m \u001b[32m━━━━━━━━━━━━━━━━━━━━\u001b[0m\u001b[37m\u001b[0m \u001b[1m0s\u001b[0m 66ms/step\n"
     ]
    },
    {
     "name": "stderr",
     "output_type": "stream",
     "text": [
      "[I 2025-08-03 01:09:51,598] Trial 5 finished with value: 0.7647058823529411 and parameters: {'dropout_rate': 0.4503246922194548, 'learning_rate': 0.0007162161951265279}. Best is trial 2 with value: 0.7843137254901961.\n"
     ]
    },
    {
     "name": "stdout",
     "output_type": "stream",
     "text": [
      "\u001b[1m1/1\u001b[0m \u001b[32m━━━━━━━━━━━━━━━━━━━━\u001b[0m\u001b[37m\u001b[0m \u001b[1m0s\u001b[0m 66ms/step\n"
     ]
    },
    {
     "name": "stderr",
     "output_type": "stream",
     "text": [
      "[I 2025-08-03 01:10:03,147] Trial 6 finished with value: 0.7058823529411765 and parameters: {'dropout_rate': 0.33469094472449373, 'learning_rate': 0.00017996371458965885}. Best is trial 2 with value: 0.7843137254901961.\n"
     ]
    },
    {
     "name": "stdout",
     "output_type": "stream",
     "text": [
      "\u001b[1m1/1\u001b[0m \u001b[32m━━━━━━━━━━━━━━━━━━━━\u001b[0m\u001b[37m\u001b[0m \u001b[1m0s\u001b[0m 69ms/step\n"
     ]
    },
    {
     "name": "stderr",
     "output_type": "stream",
     "text": [
      "[I 2025-08-03 01:10:15,280] Trial 7 finished with value: 0.7254901960784313 and parameters: {'dropout_rate': 0.4348840818254505, 'learning_rate': 0.0002534774819594314}. Best is trial 2 with value: 0.7843137254901961.\n"
     ]
    },
    {
     "name": "stdout",
     "output_type": "stream",
     "text": [
      "\u001b[1m1/1\u001b[0m \u001b[32m━━━━━━━━━━━━━━━━━━━━\u001b[0m\u001b[37m\u001b[0m \u001b[1m0s\u001b[0m 77ms/step\n"
     ]
    },
    {
     "name": "stderr",
     "output_type": "stream",
     "text": [
      "[I 2025-08-03 01:10:28,055] Trial 8 finished with value: 0.8235294117647058 and parameters: {'dropout_rate': 0.22375679433726414, 'learning_rate': 0.0002615883443983066}. Best is trial 8 with value: 0.8235294117647058.\n"
     ]
    },
    {
     "name": "stdout",
     "output_type": "stream",
     "text": [
      "\u001b[1m1/1\u001b[0m \u001b[32m━━━━━━━━━━━━━━━━━━━━\u001b[0m\u001b[37m\u001b[0m \u001b[1m0s\u001b[0m 70ms/step\n"
     ]
    },
    {
     "name": "stderr",
     "output_type": "stream",
     "text": [
      "[I 2025-08-03 01:10:40,407] Trial 9 finished with value: 0.803921568627451 and parameters: {'dropout_rate': 0.35825631670463887, 'learning_rate': 0.00024138906593501892}. Best is trial 8 with value: 0.8235294117647058.\n"
     ]
    },
    {
     "name": "stdout",
     "output_type": "stream",
     "text": [
      "Epoch 1/50\n",
      "\u001b[1m7/7\u001b[0m \u001b[32m━━━━━━━━━━━━━━━━━━━━\u001b[0m\u001b[37m\u001b[0m \u001b[1m1s\u001b[0m 73ms/step - accuracy: 0.4966 - loss: 6.0697 - val_accuracy: 0.5490 - val_loss: 0.6931\n",
      "Epoch 2/50\n",
      "\u001b[1m7/7\u001b[0m \u001b[32m━━━━━━━━━━━━━━━━━━━━\u001b[0m\u001b[37m\u001b[0m \u001b[1m0s\u001b[0m 53ms/step - accuracy: 0.5297 - loss: 0.6931 - val_accuracy: 0.5490 - val_loss: 0.6931\n",
      "Epoch 3/50\n",
      "\u001b[1m7/7\u001b[0m \u001b[32m━━━━━━━━━━━━━━━━━━━━\u001b[0m\u001b[37m\u001b[0m \u001b[1m0s\u001b[0m 57ms/step - accuracy: 0.5704 - loss: 0.6931 - val_accuracy: 0.5490 - val_loss: 0.6931\n",
      "Epoch 4/50\n",
      "\u001b[1m7/7\u001b[0m \u001b[32m━━━━━━━━━━━━━━━━━━━━\u001b[0m\u001b[37m\u001b[0m \u001b[1m0s\u001b[0m 54ms/step - accuracy: 0.5491 - loss: 0.6931 - val_accuracy: 0.5490 - val_loss: 0.6930\n",
      "Epoch 5/50\n",
      "\u001b[1m7/7\u001b[0m \u001b[32m━━━━━━━━━━━━━━━━━━━━\u001b[0m\u001b[37m\u001b[0m \u001b[1m0s\u001b[0m 56ms/step - accuracy: 0.5510 - loss: 0.6930 - val_accuracy: 0.5490 - val_loss: 0.6930\n",
      "Epoch 6/50\n",
      "\u001b[1m7/7\u001b[0m \u001b[32m━━━━━━━━━━━━━━━━━━━━\u001b[0m\u001b[37m\u001b[0m \u001b[1m0s\u001b[0m 55ms/step - accuracy: 0.5128 - loss: 0.6931 - val_accuracy: 0.5490 - val_loss: 0.6930\n",
      "Epoch 7/50\n",
      "\u001b[1m7/7\u001b[0m \u001b[32m━━━━━━━━━━━━━━━━━━━━\u001b[0m\u001b[37m\u001b[0m \u001b[1m0s\u001b[0m 56ms/step - accuracy: 0.5569 - loss: 0.6930 - val_accuracy: 0.5490 - val_loss: 0.6930\n",
      "Epoch 8/50\n",
      "\u001b[1m7/7\u001b[0m \u001b[32m━━━━━━━━━━━━━━━━━━━━\u001b[0m\u001b[37m\u001b[0m \u001b[1m0s\u001b[0m 61ms/step - accuracy: 0.5425 - loss: 0.6930 - val_accuracy: 0.5490 - val_loss: 0.6929\n",
      "Epoch 9/50\n",
      "\u001b[1m7/7\u001b[0m \u001b[32m━━━━━━━━━━━━━━━━━━━━\u001b[0m\u001b[37m\u001b[0m \u001b[1m0s\u001b[0m 60ms/step - accuracy: 0.5425 - loss: 0.6930 - val_accuracy: 0.5490 - val_loss: 0.6929\n",
      "Epoch 10/50\n",
      "\u001b[1m7/7\u001b[0m \u001b[32m━━━━━━━━━━━━━━━━━━━━\u001b[0m\u001b[37m\u001b[0m \u001b[1m0s\u001b[0m 61ms/step - accuracy: 0.5397 - loss: 0.6930 - val_accuracy: 0.5490 - val_loss: 0.6929\n",
      "Epoch 11/50\n",
      "\u001b[1m7/7\u001b[0m \u001b[32m━━━━━━━━━━━━━━━━━━━━\u001b[0m\u001b[37m\u001b[0m \u001b[1m0s\u001b[0m 56ms/step - accuracy: 0.5351 - loss: 0.6930 - val_accuracy: 0.5490 - val_loss: 0.6929\n",
      "Epoch 12/50\n",
      "\u001b[1m7/7\u001b[0m \u001b[32m━━━━━━━━━━━━━━━━━━━━\u001b[0m\u001b[37m\u001b[0m \u001b[1m0s\u001b[0m 57ms/step - accuracy: 0.5461 - loss: 0.6929 - val_accuracy: 0.5490 - val_loss: 0.6928\n",
      "Epoch 13/50\n",
      "\u001b[1m7/7\u001b[0m \u001b[32m━━━━━━━━━━━━━━━━━━━━\u001b[0m\u001b[37m\u001b[0m \u001b[1m0s\u001b[0m 58ms/step - accuracy: 0.5361 - loss: 0.6929 - val_accuracy: 0.5490 - val_loss: 0.6928\n",
      "Epoch 14/50\n",
      "\u001b[1m7/7\u001b[0m \u001b[32m━━━━━━━━━━━━━━━━━━━━\u001b[0m\u001b[37m\u001b[0m \u001b[1m0s\u001b[0m 58ms/step - accuracy: 0.5364 - loss: 0.6929 - val_accuracy: 0.5490 - val_loss: 0.6928\n",
      "Epoch 15/50\n",
      "\u001b[1m7/7\u001b[0m \u001b[32m━━━━━━━━━━━━━━━━━━━━\u001b[0m\u001b[37m\u001b[0m \u001b[1m0s\u001b[0m 62ms/step - accuracy: 0.5638 - loss: 0.6927 - val_accuracy: 0.5490 - val_loss: 0.6927\n",
      "Epoch 16/50\n",
      "\u001b[1m7/7\u001b[0m \u001b[32m━━━━━━━━━━━━━━━━━━━━\u001b[0m\u001b[37m\u001b[0m \u001b[1m0s\u001b[0m 56ms/step - accuracy: 0.5416 - loss: 0.6928 - val_accuracy: 0.5490 - val_loss: 0.6927\n",
      "Epoch 17/50\n",
      "\u001b[1m7/7\u001b[0m \u001b[32m━━━━━━━━━━━━━━━━━━━━\u001b[0m\u001b[37m\u001b[0m \u001b[1m0s\u001b[0m 55ms/step - accuracy: 0.5177 - loss: 0.6930 - val_accuracy: 0.5490 - val_loss: 0.6927\n",
      "Epoch 18/50\n",
      "\u001b[1m7/7\u001b[0m \u001b[32m━━━━━━━━━━━━━━━━━━━━\u001b[0m\u001b[37m\u001b[0m \u001b[1m0s\u001b[0m 63ms/step - accuracy: 0.5411 - loss: 0.6927 - val_accuracy: 0.5490 - val_loss: 0.6926\n",
      "Epoch 19/50\n",
      "\u001b[1m7/7\u001b[0m \u001b[32m━━━━━━━━━━━━━━━━━━━━\u001b[0m\u001b[37m\u001b[0m \u001b[1m0s\u001b[0m 59ms/step - accuracy: 0.5563 - loss: 0.6925 - val_accuracy: 0.5490 - val_loss: 0.6926\n",
      "Epoch 20/50\n",
      "\u001b[1m7/7\u001b[0m \u001b[32m━━━━━━━━━━━━━━━━━━━━\u001b[0m\u001b[37m\u001b[0m \u001b[1m0s\u001b[0m 61ms/step - accuracy: 0.5541 - loss: 0.6925 - val_accuracy: 0.5490 - val_loss: 0.6926\n",
      "Epoch 21/50\n",
      "\u001b[1m7/7\u001b[0m \u001b[32m━━━━━━━━━━━━━━━━━━━━\u001b[0m\u001b[37m\u001b[0m \u001b[1m0s\u001b[0m 55ms/step - accuracy: 0.5369 - loss: 0.6927 - val_accuracy: 0.5490 - val_loss: 0.6925\n",
      "Epoch 22/50\n",
      "\u001b[1m7/7\u001b[0m \u001b[32m━━━━━━━━━━━━━━━━━━━━\u001b[0m\u001b[37m\u001b[0m \u001b[1m0s\u001b[0m 59ms/step - accuracy: 0.5786 - loss: 0.6921 - val_accuracy: 0.5490 - val_loss: 0.6925\n",
      "Epoch 23/50\n",
      "\u001b[1m7/7\u001b[0m \u001b[32m━━━━━━━━━━━━━━━━━━━━\u001b[0m\u001b[37m\u001b[0m \u001b[1m0s\u001b[0m 54ms/step - accuracy: 0.5551 - loss: 0.6924 - val_accuracy: 0.5490 - val_loss: 0.6925\n",
      "Epoch 24/50\n",
      "\u001b[1m7/7\u001b[0m \u001b[32m━━━━━━━━━━━━━━━━━━━━\u001b[0m\u001b[37m\u001b[0m \u001b[1m0s\u001b[0m 56ms/step - accuracy: 0.5654 - loss: 0.6922 - val_accuracy: 0.5490 - val_loss: 0.6924\n",
      "Epoch 25/50\n",
      "\u001b[1m7/7\u001b[0m \u001b[32m━━━━━━━━━━━━━━━━━━━━\u001b[0m\u001b[37m\u001b[0m \u001b[1m0s\u001b[0m 65ms/step - accuracy: 0.5610 - loss: 0.6922 - val_accuracy: 0.5490 - val_loss: 0.6924\n",
      "Epoch 26/50\n",
      "\u001b[1m7/7\u001b[0m \u001b[32m━━━━━━━━━━━━━━━━━━━━\u001b[0m\u001b[37m\u001b[0m \u001b[1m0s\u001b[0m 56ms/step - accuracy: 0.5367 - loss: 0.6926 - val_accuracy: 0.5490 - val_loss: 0.6924\n",
      "Epoch 27/50\n",
      "\u001b[1m7/7\u001b[0m \u001b[32m━━━━━━━━━━━━━━━━━━━━\u001b[0m\u001b[37m\u001b[0m \u001b[1m0s\u001b[0m 57ms/step - accuracy: 0.5474 - loss: 0.6924 - val_accuracy: 0.5490 - val_loss: 0.6923\n",
      "Epoch 28/50\n",
      "\u001b[1m7/7\u001b[0m \u001b[32m━━━━━━━━━━━━━━━━━━━━\u001b[0m\u001b[37m\u001b[0m \u001b[1m0s\u001b[0m 57ms/step - accuracy: 0.5582 - loss: 0.6922 - val_accuracy: 0.5490 - val_loss: 0.6923\n",
      "Epoch 29/50\n",
      "\u001b[1m7/7\u001b[0m \u001b[32m━━━━━━━━━━━━━━━━━━━━\u001b[0m\u001b[37m\u001b[0m \u001b[1m0s\u001b[0m 64ms/step - accuracy: 0.5637 - loss: 0.6920 - val_accuracy: 0.5490 - val_loss: 0.6923\n",
      "Epoch 30/50\n",
      "\u001b[1m7/7\u001b[0m \u001b[32m━━━━━━━━━━━━━━━━━━━━\u001b[0m\u001b[37m\u001b[0m \u001b[1m0s\u001b[0m 57ms/step - accuracy: 0.5438 - loss: 0.6924 - val_accuracy: 0.5490 - val_loss: 0.6922\n",
      "Epoch 31/50\n",
      "\u001b[1m7/7\u001b[0m \u001b[32m━━━━━━━━━━━━━━━━━━━━\u001b[0m\u001b[37m\u001b[0m \u001b[1m0s\u001b[0m 61ms/step - accuracy: 0.5678 - loss: 0.6919 - val_accuracy: 0.5490 - val_loss: 0.6922\n",
      "Epoch 32/50\n",
      "\u001b[1m7/7\u001b[0m \u001b[32m━━━━━━━━━━━━━━━━━━━━\u001b[0m\u001b[37m\u001b[0m \u001b[1m0s\u001b[0m 54ms/step - accuracy: 0.5162 - loss: 0.6929 - val_accuracy: 0.5490 - val_loss: 0.6922\n",
      "Epoch 33/50\n",
      "\u001b[1m7/7\u001b[0m \u001b[32m━━━━━━━━━━━━━━━━━━━━\u001b[0m\u001b[37m\u001b[0m \u001b[1m0s\u001b[0m 56ms/step - accuracy: 0.5424 - loss: 0.6923 - val_accuracy: 0.5490 - val_loss: 0.6921\n",
      "Epoch 34/50\n",
      "\u001b[1m7/7\u001b[0m \u001b[32m━━━━━━━━━━━━━━━━━━━━\u001b[0m\u001b[37m\u001b[0m \u001b[1m0s\u001b[0m 57ms/step - accuracy: 0.5500 - loss: 0.6921 - val_accuracy: 0.5490 - val_loss: 0.6921\n",
      "Epoch 35/50\n",
      "\u001b[1m7/7\u001b[0m \u001b[32m━━━━━━━━━━━━━━━━━━━━\u001b[0m\u001b[37m\u001b[0m \u001b[1m0s\u001b[0m 57ms/step - accuracy: 0.5392 - loss: 0.6923 - val_accuracy: 0.5490 - val_loss: 0.6921\n",
      "Epoch 36/50\n",
      "\u001b[1m7/7\u001b[0m \u001b[32m━━━━━━━━━━━━━━━━━━━━\u001b[0m\u001b[37m\u001b[0m \u001b[1m0s\u001b[0m 58ms/step - accuracy: 0.5753 - loss: 0.6915 - val_accuracy: 0.5490 - val_loss: 0.6921\n",
      "Epoch 37/50\n",
      "\u001b[1m7/7\u001b[0m \u001b[32m━━━━━━━━━━━━━━━━━━━━\u001b[0m\u001b[37m\u001b[0m \u001b[1m0s\u001b[0m 54ms/step - accuracy: 0.5463 - loss: 0.6921 - val_accuracy: 0.5490 - val_loss: 0.6920\n",
      "Epoch 38/50\n",
      "\u001b[1m7/7\u001b[0m \u001b[32m━━━━━━━━━━━━━━━━━━━━\u001b[0m\u001b[37m\u001b[0m \u001b[1m0s\u001b[0m 54ms/step - accuracy: 0.5096 - loss: 0.6930 - val_accuracy: 0.5490 - val_loss: 0.6920\n",
      "Epoch 39/50\n",
      "\u001b[1m7/7\u001b[0m \u001b[32m━━━━━━━━━━━━━━━━━━━━\u001b[0m\u001b[37m\u001b[0m \u001b[1m0s\u001b[0m 54ms/step - accuracy: 0.5176 - loss: 0.6928 - val_accuracy: 0.5490 - val_loss: 0.6920\n",
      "Epoch 40/50\n",
      "\u001b[1m7/7\u001b[0m \u001b[32m━━━━━━━━━━━━━━━━━━━━\u001b[0m\u001b[37m\u001b[0m \u001b[1m0s\u001b[0m 58ms/step - accuracy: 0.5554 - loss: 0.6918 - val_accuracy: 0.5490 - val_loss: 0.6919\n",
      "Epoch 41/50\n",
      "\u001b[1m7/7\u001b[0m \u001b[32m━━━━━━━━━━━━━━━━━━━━\u001b[0m\u001b[37m\u001b[0m \u001b[1m0s\u001b[0m 55ms/step - accuracy: 0.5671 - loss: 0.6914 - val_accuracy: 0.5490 - val_loss: 0.6919\n",
      "Epoch 42/50\n",
      "\u001b[1m7/7\u001b[0m \u001b[32m━━━━━━━━━━━━━━━━━━━━\u001b[0m\u001b[37m\u001b[0m \u001b[1m0s\u001b[0m 54ms/step - accuracy: 0.5873 - loss: 0.6908 - val_accuracy: 0.5490 - val_loss: 0.6919\n",
      "Epoch 43/50\n",
      "\u001b[1m7/7\u001b[0m \u001b[32m━━━━━━━━━━━━━━━━━━━━\u001b[0m\u001b[37m\u001b[0m \u001b[1m0s\u001b[0m 54ms/step - accuracy: 0.5462 - loss: 0.6919 - val_accuracy: 0.5490 - val_loss: 0.6918\n",
      "Epoch 44/50\n",
      "\u001b[1m7/7\u001b[0m \u001b[32m━━━━━━━━━━━━━━━━━━━━\u001b[0m\u001b[37m\u001b[0m \u001b[1m0s\u001b[0m 56ms/step - accuracy: 0.5232 - loss: 0.6926 - val_accuracy: 0.5490 - val_loss: 0.6918\n",
      "Epoch 45/50\n",
      "\u001b[1m7/7\u001b[0m \u001b[32m━━━━━━━━━━━━━━━━━━━━\u001b[0m\u001b[37m\u001b[0m \u001b[1m0s\u001b[0m 61ms/step - accuracy: 0.5319 - loss: 0.6923 - val_accuracy: 0.5490 - val_loss: 0.6918\n",
      "Epoch 46/50\n",
      "\u001b[1m7/7\u001b[0m \u001b[32m━━━━━━━━━━━━━━━━━━━━\u001b[0m\u001b[37m\u001b[0m \u001b[1m0s\u001b[0m 56ms/step - accuracy: 0.5491 - loss: 0.6918 - val_accuracy: 0.5490 - val_loss: 0.6917\n",
      "Epoch 47/50\n",
      "\u001b[1m7/7\u001b[0m \u001b[32m━━━━━━━━━━━━━━━━━━━━\u001b[0m\u001b[37m\u001b[0m \u001b[1m0s\u001b[0m 55ms/step - accuracy: 0.5530 - loss: 0.6916 - val_accuracy: 0.5490 - val_loss: 0.6917\n",
      "Epoch 48/50\n",
      "\u001b[1m7/7\u001b[0m \u001b[32m━━━━━━━━━━━━━━━━━━━━\u001b[0m\u001b[37m\u001b[0m \u001b[1m0s\u001b[0m 55ms/step - accuracy: 0.5442 - loss: 0.6919 - val_accuracy: 0.5490 - val_loss: 0.6917\n",
      "Epoch 49/50\n",
      "\u001b[1m7/7\u001b[0m \u001b[32m━━━━━━━━━━━━━━━━━━━━\u001b[0m\u001b[37m\u001b[0m \u001b[1m0s\u001b[0m 59ms/step - accuracy: 0.5617 - loss: 0.6913 - val_accuracy: 0.5490 - val_loss: 0.6916\n",
      "Epoch 50/50\n",
      "\u001b[1m7/7\u001b[0m \u001b[32m━━━━━━━━━━━━━━━━━━━━\u001b[0m\u001b[37m\u001b[0m \u001b[1m0s\u001b[0m 57ms/step - accuracy: 0.5665 - loss: 0.6911 - val_accuracy: 0.5490 - val_loss: 0.6916\n",
      "Restoring model weights from the end of the best epoch: 50.\n",
      "\u001b[1m1/1\u001b[0m \u001b[32m━━━━━━━━━━━━━━━━━━━━\u001b[0m\u001b[37m\u001b[0m \u001b[1m0s\u001b[0m 70ms/step\n",
      "\n",
      "📊 Final Test Results on Held-Out Set\n",
      "Accuracy: 0.549\n",
      "\n",
      "Classification Report:\n",
      "               precision    recall  f1-score   support\n",
      "\n",
      "           0       0.55      1.00      0.71        28\n",
      "           1       0.00      0.00      0.00        23\n",
      "\n",
      "    accuracy                           0.55        51\n",
      "   macro avg       0.27      0.50      0.35        51\n",
      "weighted avg       0.30      0.55      0.39        51\n",
      "\n"
     ]
    },
    {
     "data": {
      "image/png": "[encoded data removed]",
      "text/plain": [
       "<Figure size 640x480 with 2 Axes>"
      ]
     },
     "metadata": {},
     "output_type": "display_data"
    }
   ],
   "source": [
    "import numpy as np\n",
    "import pandas as pd\n",
    "import seaborn as sns\n",
    "import matplotlib.pyplot as plt\n",
    "\n",
    "from pathlib import Path\n",
    "from sklearn.metrics import classification_report, confusion_matrix, accuracy_score\n",
    "from sklearn.model_selection import train_test_split\n",
    "from tensorflow.keras.models import Sequential\n",
    "from tensorflow.keras.layers import (\n",
    "    Conv1D, BatchNormalization, ReLU, MaxPooling1D, Flatten,\n",
    "    Dense, Dropout, Input\n",
    ")\n",
    "from tensorflow.keras.optimizers import Adam\n",
    "from tensorflow.keras.regularizers import l1, l2, l1_l2\n",
    "from tensorflow.keras.callbacks import EarlyStopping\n",
    "from tensorflow.keras.utils import Sequence\n",
    "import optuna\n",
    "import random\n",
    "import tensorflow as tf\n",
    "\n",
    "# ----------------------- Random Seed -----------------------\n",
    "SEED = 42\n",
    "np.random.seed(SEED)\n",
    "random.seed(SEED)\n",
    "tf.random.set_seed(SEED)\n",
    "\n",
    "# ------------------- Custom Generator ----------------------\n",
    "class GeneExpressionSequence(Sequence):\n",
    "    def __init__(self, X, y, batch_size=32, shuffle=True, **kwargs):\n",
    "        super().__init__(**kwargs) \n",
    "        self.X = X.reshape(-1, X.shape[1], 1)\n",
    "        self.y = y\n",
    "        self.batch_size = batch_size\n",
    "        self.shuffle = shuffle\n",
    "        self.indices = np.arange(len(self.X))\n",
    "        self.on_epoch_end()\n",
    "\n",
    "    def __len__(self):\n",
    "        return int(np.ceil(len(self.X) / self.batch_size))\n",
    "\n",
    "    def __getitem__(self, idx):\n",
    "        batch_idx = self.indices[idx * self.batch_size:(idx + 1) * self.batch_size]\n",
    "        return self.X[batch_idx], self.y[batch_idx]\n",
    "\n",
    "    def on_epoch_end(self):\n",
    "        if self.shuffle:\n",
    "            np.random.shuffle(self.indices)\n",
    "\n",
    "# -------------------- Build LightCNN1D ---------------------\n",
    "def build_model(trial, input_shape):\n",
    "    model = Sequential()\n",
    "    model.add(Input(shape=input_shape))\n",
    "    reg_strength = trial.suggest_float(\"l2_strength\", 1e-3, 1e-1, log=True)\n",
    "    regularizer = l2(reg_strength)\n",
    "    kernel_size = trial.suggest_categorical(\"kernel_size\", [4, 8, 12])\n",
    "\n",
    "    stride = trial.suggest_categorical(\"conv_stride\", [1, 2])\n",
    "    p_size = trial.suggest_categorical(\"pool_size\", [1, 2, 3])\n",
    "    p_stride   = trial.suggest_categorical(\"pool_stride\", [1, 2, 3])\n",
    "\n",
    "    model.add(Conv1D(filters=8, kernel_size=kernel_size, strides=stride, padding=\"same\",kernel_regularizer=regularizer))\n",
    "    model.add(BatchNormalization())\n",
    "    model.add(ReLU())\n",
    "    # model.add(MaxPooling1D(pool_size=2, strides=2))\n",
    "\n",
    "    model.add(Conv1D(filters=16, kernel_size=kernel_size, strides=stride, padding=\"same\",kernel_regularizer=regularizer))\n",
    "    model.add(BatchNormalization())\n",
    "    model.add(ReLU())\n",
    "    # model.add(MaxPooling1D(pool_size=2, strides=2))\n",
    "\n",
    "    model.add(Conv1D(filters=32, kernel_size=kernel_size, strides=stride, padding=\"same\",kernel_regularizer=regularizer))\n",
    "    model.add(BatchNormalization())\n",
    "    model.add(ReLU())\n",
    "    model.add(MaxPooling1D(pool_size=p_size, strides=p_stride))\n",
    "\n",
    "    model.add(Flatten())\n",
    "    model.add(Dense(64, activation='relu', kernel_regularizer=regularizer))\n",
    "    model.add(Dropout(trial.suggest_float(\"dropout_rate\", 0.1, 0.3)))\n",
    "    model.add(Dense(1, activation='sigmoid'))\n",
    "\n",
    "    lr = trial.suggest_float(\"learning_rate\", 1e-4, 1e-3, log=True)\n",
    "    model.compile(optimizer=Adam(learning_rate=lr), loss='binary_crossentropy', metrics=['accuracy'])\n",
    "    return model\n",
    "\n",
    "# ---------------------- Optuna Objective -------------------\n",
    "def objective(trial):\n",
    "    model = build_model(trial, input_shape=(X_train_np.shape[1], 1))\n",
    "    train_gen = GeneExpressionSequence(X_train_np, y_train_np, batch_size=64)\n",
    "    val_gen = GeneExpressionSequence(X_val_np, y_val_np, batch_size=64, shuffle=False)\n",
    "\n",
    "    early_stop = EarlyStopping(monitor='val_loss', patience=10, restore_best_weights=True, verbose=0)\n",
    "    model.fit(train_gen, validation_data=val_gen, epochs=30, callbacks=[early_stop], verbose=0)\n",
    "\n",
    "    y_pred = (model.predict(val_gen) > 0.5).astype(int).flatten()\n",
    "    return accuracy_score(y_val_np, y_pred)\n",
    "\n",
    "# ------------------------- Data Load -----------------------\n",
    "base_path = Path(\"/Users/tusharsingh/Work/Project/tcga-mldl/results/data/data_splits\")\n",
    "variant_name = \"25pct_80\"\n",
    "data_path = base_path / variant_name\n",
    "\n",
    "X_train = pd.read_csv(data_path / \"X_train.csv\", index_col=0)\n",
    "X_test = pd.read_csv(data_path / \"X_test.csv\", index_col=0)\n",
    "y_train = pd.read_csv(data_path / \"y_train.csv\", index_col=0).squeeze()\n",
    "y_test = pd.read_csv(data_path / \"y_test.csv\", index_col=0).squeeze()\n",
    "\n",
    "X_val_np, X_final_np, y_val_np, y_final_np = train_test_split(\n",
    "    X_test.values, y_test.values, test_size=0.5, stratify=y_test, random_state=SEED\n",
    ")\n",
    "X_train_np, y_train_np = X_train.values, y_train.values\n",
    "\n",
    "# -------------------- Run Optuna Search --------------------\n",
    "study = optuna.create_study(direction=\"maximize\")\n",
    "study.optimize(objective, n_trials=25)\n",
    "\n",
    "# ------------------ Retrain Best Model ---------------------\n",
    "best_params = study.best_trial.params\n",
    "final_model = build_model(study.best_trial, input_shape=(X_train_np.shape[1], 1))\n",
    "\n",
    "train_gen = GeneExpressionSequence(X_train_np, y_train_np, batch_size=64)\n",
    "val_gen = GeneExpressionSequence(X_val_np, y_val_np, batch_size=64)\n",
    "\n",
    "early_stop = EarlyStopping(monitor='val_loss', patience=10, restore_best_weights=True, verbose=1)\n",
    "final_model.fit(train_gen, validation_data=val_gen, epochs=50, callbacks=[early_stop], verbose=1)\n",
    "\n",
    "# ---------------------- Final Evaluation -------------------\n",
    "final_test_gen = GeneExpressionSequence(X_final_np, y_final_np, batch_size=64, shuffle=False)\n",
    "y_pred_final = (final_model.predict(final_test_gen) > 0.5).astype(int).flatten()\n",
    "\n",
    "print(\"\\n📊 Final Test Results on Held-Out Set\")\n",
    "print(\"Accuracy:\", round(accuracy_score(y_final_np, y_pred_final), 4))\n",
    "print(\"\\nClassification Report:\\n\", classification_report(y_final_np, y_pred_final, zero_division=0))\n",
    "\n",
    "sns.heatmap(confusion_matrix(y_final_np, y_pred_final), annot=True, fmt='d', cmap=\"Blues\")\n",
    "plt.title(f\"Confusion Matrix - {variant_name}\")\n",
    "plt.xlabel(\"Predicted\")\n",
    "plt.ylabel(\"Actual\")\n",
    "plt.show()\n"
   ]
  },
  {
   "cell_type": "code",
   "execution_count": null,
   "metadata": {},
   "outputs": [],
   "source": []
  }
 ],
 "metadata": {
  "kernelspec": {
   "display_name": "ML_practice",
   "language": "python",
   "name": "python3"
  },
  "language_info": {
   "codemirror_mode": {
    "name": "ipython",
    "version": 3
   },
   "file_extension": ".py",
   "mimetype": "text/x-python",
   "name": "python",
   "nbconvert_exporter": "python",
   "pygments_lexer": "ipython3",
   "version": "3.11.8"
  }
 },
 "nbformat": 4,
 "nbformat_minor": 2
}
