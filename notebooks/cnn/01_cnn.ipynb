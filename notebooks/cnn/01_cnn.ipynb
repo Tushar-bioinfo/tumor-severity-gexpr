{
 "cells": [
  {
   "cell_type": "markdown",
   "metadata": {},
   "source": [
    "### Imports"
   ]
  },
  {
   "cell_type": "code",
   "execution_count": 130,
   "metadata": {},
   "outputs": [],
   "source": [
    "# --- Imports ---\n",
    "import pandas as pd\n",
    "import numpy as np\n",
    "import seaborn as sns\n",
    "import matplotlib.pyplot as plt\n",
    "from pathlib import Path\n",
    "\n",
    "from tensorflow.keras.models import Sequential\n",
    "from tensorflow.keras.layers import Conv1D, MaxPooling1D, Flatten, Dense, Dropout, Input\n",
    "from tensorflow.keras.optimizers import Adam\n",
    "from tensorflow.keras.callbacks import EarlyStopping\n",
    "from scikeras.wrappers import KerasClassifier\n",
    "from sklearn.metrics import accuracy_score, classification_report, confusion_matrix\n",
    "from sklearn.model_selection import train_test_split\n"
   ]
  },
  {
   "cell_type": "code",
   "execution_count": 131,
   "metadata": {},
   "outputs": [],
   "source": [
    "import os\n",
    "import random\n",
    "import numpy as np\n",
    "import tensorflow as tf\n",
    "\n",
    "SEED = 42\n",
    "\n",
    "os.environ['PYTHONHASHSEED'] = str(SEED)\n",
    "random.seed(SEED)\n",
    "np.random.seed(SEED)\n",
    "tf.random.set_seed(SEED)"
   ]
  },
  {
   "cell_type": "markdown",
   "metadata": {},
   "source": [
    "### CNN Build"
   ]
  },
  {
   "cell_type": "code",
   "execution_count": 132,
   "metadata": {},
   "outputs": [],
   "source": [
    "def build_paper_cnn(input_shape):\n",
    "    model = Sequential([\n",
    "        Input(shape=input_shape),\n",
    "        Conv1D(32, kernel_size=8, strides=1, activation='relu', padding=\"valid\"),\n",
    "        MaxPooling1D(pool_size=2, strides=2),\n",
    "        Flatten(),  \n",
    "        Dense(128, activation='relu'),\n",
    "        Dropout(0.068),\n",
    "        Dense(1, activation='sigmoid')\n",
    "    ])\n",
    "    model.compile(optimizer=Adam(learning_rate=0.008), loss='binary_crossentropy', metrics=['accuracy'])\n",
    "    return model\n"
   ]
  },
  {
   "cell_type": "markdown",
   "metadata": {},
   "source": [
    "### Load Data "
   ]
  },
  {
   "cell_type": "code",
   "execution_count": 133,
   "metadata": {},
   "outputs": [],
   "source": [
    "def load_and_prepare_data(variant):\n",
    "    base_path = Path(\"/Users/tusharsingh/Work/Project/tcga-mldl/results/data/data_splits\")\n",
    "    path = base_path / variant\n",
    "\n",
    "    X_train = pd.read_csv(path / \"X_train.csv\", index_col=0)\n",
    "    X_test  = pd.read_csv(path / \"X_test.csv\", index_col=0)\n",
    "    y_train = pd.read_csv(path / \"y_train.csv\", index_col=0).squeeze()\n",
    "    y_test  = pd.read_csv(path / \"y_test.csv\", index_col=0).squeeze()\n",
    "\n",
    "    # 50/50 split of test set into validation and final test\n",
    "    X_val, X_test_final, y_val, y_test_final = train_test_split(\n",
    "        X_test, y_test, test_size=0.5, stratify=y_test, random_state=42\n",
    "    )\n",
    "\n",
    "    # Add channel dimension for Conv1D\n",
    "    X_train_cnn = X_train.values[..., np.newaxis]\n",
    "    X_val_cnn   = X_val.values[..., np.newaxis]\n",
    "    X_test_cnn  = X_test_final.values[..., np.newaxis]\n",
    "\n",
    "    return X_train_cnn, y_train, X_val_cnn, y_val, X_test_cnn, y_test_final\n"
   ]
  },
  {
   "cell_type": "markdown",
   "metadata": {},
   "source": [
    "### Train & Eval CNN"
   ]
  },
  {
   "cell_type": "code",
   "execution_count": 134,
   "metadata": {},
   "outputs": [],
   "source": [
    "def train_and_evaluate_cnn(X_train, y_train, X_val, y_val, X_test, y_test, variant):\n",
    "    model = build_paper_cnn(input_shape=X_train.shape[1:])\n",
    "    early_stop = EarlyStopping(monitor='val_loss', patience=10, restore_best_weights=True)\n",
    "\n",
    "    # Train with val split from test\n",
    "    model.fit(\n",
    "        X_train, y_train,\n",
    "        validation_data=(X_val, y_val),\n",
    "        epochs=50,\n",
    "        batch_size=64,\n",
    "        callbacks=[early_stop],\n",
    "        verbose=1\n",
    "    )\n",
    "\n",
    "    # Evaluate on test-final split\n",
    "    y_pred = (model.predict(X_test) > 0.5).astype(int).flatten()\n",
    "\n",
    "    print(f\"\\nFinal Test Results for {variant}\")\n",
    "    print(\"Test Accuracy:\", round(accuracy_score(y_test, y_pred), 4))\n",
    "    print(\"\\nClassification Report:\\n\", classification_report(y_test, y_pred, zero_division=0))\n",
    "\n",
    "    sns.heatmap(confusion_matrix(y_test, y_pred), annot=True, fmt='d', cmap=\"Blues\")\n",
    "    plt.title(f\"Confusion Matrix - Final Test ({variant})\")\n",
    "    plt.xlabel(\"Predicted\")\n",
    "    plt.ylabel(\"Actual\")\n",
    "    plt.show()\n",
    "\n",
    "    return round(accuracy_score(y_test, y_pred), 4)\n"
   ]
  },
  {
   "cell_type": "markdown",
   "metadata": {},
   "source": [
    "### Run "
   ]
  },
  {
   "cell_type": "code",
   "execution_count": 135,
   "metadata": {},
   "outputs": [
    {
     "name": "stdout",
     "output_type": "stream",
     "text": [
      "Epoch 1/50\n",
      "\u001b[1m7/7\u001b[0m \u001b[32m━━━━━━━━━━━━━━━━━━━━\u001b[0m\u001b[37m\u001b[0m \u001b[1m1s\u001b[0m 65ms/step - accuracy: 0.5221 - loss: 33.1983 - val_accuracy: 0.6863 - val_loss: 14.0384\n",
      "Epoch 2/50\n",
      "\u001b[1m7/7\u001b[0m \u001b[32m━━━━━━━━━━━━━━━━━━━━\u001b[0m\u001b[37m\u001b[0m \u001b[1m0s\u001b[0m 52ms/step - accuracy: 0.7055 - loss: 10.1269 - val_accuracy: 0.5686 - val_loss: 3.4712\n",
      "Epoch 3/50\n",
      "\u001b[1m7/7\u001b[0m \u001b[32m━━━━━━━━━━━━━━━━━━━━\u001b[0m\u001b[37m\u001b[0m \u001b[1m0s\u001b[0m 54ms/step - accuracy: 0.7235 - loss: 1.3660 - val_accuracy: 0.4902 - val_loss: 1.1495\n",
      "Epoch 4/50\n",
      "\u001b[1m7/7\u001b[0m \u001b[32m━━━━━━━━━━━━━━━━━━━━\u001b[0m\u001b[37m\u001b[0m \u001b[1m0s\u001b[0m 53ms/step - accuracy: 0.6493 - loss: 0.7471 - val_accuracy: 0.6863 - val_loss: 0.6707\n",
      "Epoch 5/50\n",
      "\u001b[1m7/7\u001b[0m \u001b[32m━━━━━━━━━━━━━━━━━━━━\u001b[0m\u001b[37m\u001b[0m \u001b[1m0s\u001b[0m 57ms/step - accuracy: 0.8292 - loss: 0.4538 - val_accuracy: 0.7255 - val_loss: 0.5197\n",
      "Epoch 6/50\n",
      "\u001b[1m7/7\u001b[0m \u001b[32m━━━━━━━━━━━━━━━━━━━━\u001b[0m\u001b[37m\u001b[0m \u001b[1m0s\u001b[0m 55ms/step - accuracy: 0.8324 - loss: 0.3833 - val_accuracy: 0.7255 - val_loss: 0.5763\n",
      "Epoch 7/50\n",
      "\u001b[1m7/7\u001b[0m \u001b[32m━━━━━━━━━━━━━━━━━━━━\u001b[0m\u001b[37m\u001b[0m \u001b[1m0s\u001b[0m 56ms/step - accuracy: 0.8849 - loss: 0.3126 - val_accuracy: 0.7647 - val_loss: 0.5857\n",
      "Epoch 8/50\n",
      "\u001b[1m7/7\u001b[0m \u001b[32m━━━━━━━━━━━━━━━━━━━━\u001b[0m\u001b[37m\u001b[0m \u001b[1m0s\u001b[0m 53ms/step - accuracy: 0.9290 - loss: 0.2033 - val_accuracy: 0.7451 - val_loss: 0.5544\n",
      "Epoch 9/50\n",
      "\u001b[1m7/7\u001b[0m \u001b[32m━━━━━━━━━━━━━━━━━━━━\u001b[0m\u001b[37m\u001b[0m \u001b[1m0s\u001b[0m 54ms/step - accuracy: 0.9790 - loss: 0.1382 - val_accuracy: 0.7647 - val_loss: 0.6266\n",
      "Epoch 10/50\n",
      "\u001b[1m7/7\u001b[0m \u001b[32m━━━━━━━━━━━━━━━━━━━━\u001b[0m\u001b[37m\u001b[0m \u001b[1m0s\u001b[0m 52ms/step - accuracy: 0.9836 - loss: 0.0933 - val_accuracy: 0.7647 - val_loss: 0.7463\n",
      "Epoch 11/50\n",
      "\u001b[1m7/7\u001b[0m \u001b[32m━━━━━━━━━━━━━━━━━━━━\u001b[0m\u001b[37m\u001b[0m \u001b[1m0s\u001b[0m 51ms/step - accuracy: 0.9975 - loss: 0.0618 - val_accuracy: 0.7647 - val_loss: 0.7697\n",
      "Epoch 12/50\n",
      "\u001b[1m7/7\u001b[0m \u001b[32m━━━━━━━━━━━━━━━━━━━━\u001b[0m\u001b[37m\u001b[0m \u001b[1m0s\u001b[0m 57ms/step - accuracy: 1.0000 - loss: 0.0433 - val_accuracy: 0.7647 - val_loss: 0.9131\n",
      "Epoch 13/50\n",
      "\u001b[1m7/7\u001b[0m \u001b[32m━━━━━━━━━━━━━━━━━━━━\u001b[0m\u001b[37m\u001b[0m \u001b[1m0s\u001b[0m 54ms/step - accuracy: 0.9946 - loss: 0.0315 - val_accuracy: 0.7843 - val_loss: 0.8298\n",
      "Epoch 14/50\n",
      "\u001b[1m7/7\u001b[0m \u001b[32m━━━━━━━━━━━━━━━━━━━━\u001b[0m\u001b[37m\u001b[0m \u001b[1m0s\u001b[0m 50ms/step - accuracy: 1.0000 - loss: 0.0193 - val_accuracy: 0.7647 - val_loss: 0.9291\n",
      "Epoch 15/50\n",
      "\u001b[1m7/7\u001b[0m \u001b[32m━━━━━━━━━━━━━━━━━━━━\u001b[0m\u001b[37m\u001b[0m \u001b[1m0s\u001b[0m 52ms/step - accuracy: 1.0000 - loss: 0.0107 - val_accuracy: 0.7843 - val_loss: 0.8626\n",
      "\u001b[1m2/2\u001b[0m \u001b[32m━━━━━━━━━━━━━━━━━━━━\u001b[0m\u001b[37m\u001b[0m \u001b[1m0s\u001b[0m 28ms/step\n",
      "\n",
      "Final Test Results for 15pct_80\n",
      "Test Accuracy: 0.7647\n",
      "\n",
      "Classification Report:\n",
      "               precision    recall  f1-score   support\n",
      "\n",
      "           0       0.74      0.89      0.81        28\n",
      "           1       0.82      0.61      0.70        23\n",
      "\n",
      "    accuracy                           0.76        51\n",
      "   macro avg       0.78      0.75      0.75        51\n",
      "weighted avg       0.78      0.76      0.76        51\n",
      "\n"
     ]
    },
    {
     "data": {
      "image/png": "[encoded data removed]",
      "text/plain": [
       "<Figure size 640x480 with 2 Axes>"
      ]
     },
     "metadata": {},
     "output_type": "display_data"
    },
    {
     "name": "stdout",
     "output_type": "stream",
     "text": [
      "Final test accuracy: 0.7647\n"
     ]
    }
   ],
   "source": [
    "variant = \"15pct_80\"\n",
    "\n",
    "X_train_cnn, y_train, X_val_cnn, y_val, X_test_cnn, y_test_final = load_and_prepare_data(variant)\n",
    "final_acc = train_and_evaluate_cnn(X_train_cnn, y_train, X_val_cnn, y_val, X_test_cnn, y_test_final, variant)\n",
    "print(\"Final test accuracy:\", final_acc)\n"
   ]
  },
  {
   "cell_type": "markdown",
   "metadata": {},
   "source": [
    "### Hyperparam tuning"
   ]
  },
  {
   "cell_type": "code",
   "execution_count": 136,
   "metadata": {},
   "outputs": [],
   "source": [
    "# def build_cnn_for_tuning(input_shape=(512, 1), filters=32, kernel_size=50, dense_units=64, dropout=0.1, learning_rate=0.001):\n",
    "#     model = Sequential([\n",
    "#         Input(shape=input_shape),\n",
    "#         Conv1D(filters, kernel_size=kernel_size, activation='relu'),\n",
    "#         MaxPooling1D(pool_size=2),\n",
    "#         Flatten(),\n",
    "#         Dense(dense_units, activation='relu'),\n",
    "#         Dropout(dropout),\n",
    "#         Dense(1, activation='sigmoid')\n",
    "#     ])\n",
    "#     model.compile(optimizer=Adam(learning_rate=learning_rate), loss='binary_crossentropy', metrics=['accuracy'])\n",
    "#     return model"
   ]
  },
  {
   "cell_type": "code",
   "execution_count": 137,
   "metadata": {},
   "outputs": [],
   "source": [
    "# def load_tuning_data(variant):\n",
    "#     path = Path(\"/Users/tusharsingh/Work/Project/tcga-mldl/results/data/data_splits\") / variant\n",
    "#     X_train = pd.read_csv(path / \"X_train.csv\", index_col=0)\n",
    "#     y_train = pd.read_csv(path / \"y_train.csv\", index_col=0).squeeze()\n",
    "#     X_test  = pd.read_csv(path / \"X_test.csv\", index_col=0)\n",
    "#     y_test  = pd.read_csv(path / \"y_test.csv\", index_col=0).squeeze()\n",
    "\n",
    "#     # Combine all into one (train + test) for grid search CV\n",
    "#     X_full = pd.concat([X_train, X_test]).values[..., np.newaxis]\n",
    "#     y_full = pd.concat([y_train, y_test])\n",
    "\n",
    "#     return X_full, y_full, X_train.shape[1]\n"
   ]
  },
  {
   "cell_type": "code",
   "execution_count": 138,
   "metadata": {},
   "outputs": [],
   "source": [
    "# from sklearn.model_selection import StratifiedKFold, GridSearchCV\n",
    "\n",
    "# variant = \"15pct_80\"\n",
    "# X, y, input_dim = load_tuning_data(variant)\n",
    "\n",
    "# model = KerasClassifier(\n",
    "#     model=build_cnn_for_tuning,\n",
    "#     input_shape=(input_dim, 1),\n",
    "#     verbose=0,\n",
    "#     random_state=SEED \n",
    "# )\n",
    "\n",
    "# param_grid = {\n",
    "#     \"model__filters\": [16, 32, 64],\n",
    "#     \"model__kernel_size\": [10, 25, 50],\n",
    "#     \"model__dense_units\": [32, 64, 128],\n",
    "#     \"model__dropout\": [0.1, 0.3],\n",
    "#     \"model__learning_rate\": [0.001, 0.01],\n",
    "#     \"batch_size\": [32, 64],\n",
    "#     \"epochs\": [30],\n",
    "# }\n",
    "\n",
    "# cv = StratifiedKFold(n_splits=3, shuffle=True, random_state=42)\n",
    "\n",
    "# grid = GridSearchCV(\n",
    "#     estimator=model,\n",
    "#     param_grid=param_grid,\n",
    "#     cv=cv,\n",
    "#     scoring='accuracy',\n",
    "#     n_jobs=-1\n",
    "# )\n",
    "\n",
    "# grid.fit(X, y)\n",
    "\n",
    "# print(\"Best score:\", grid.best_score_)\n",
    "# print(\"Best params:\", grid.best_params_)\n"
   ]
  },
  {
   "cell_type": "code",
   "execution_count": 139,
   "metadata": {},
   "outputs": [],
   "source": [
    "# )\n",
    "\n",
    "# grid.fit(X, y)\n",
    "\n",
    "# print(\"✅ Best score:\", grid.best_score_)\n",
    "# print(\"✅ Best params:\", grid.best_params_)\n"
   ]
  },
  {
   "cell_type": "code",
   "execution_count": 140,
   "metadata": {},
   "outputs": [],
   "source": [
    "# X_train.shape[1:]"
   ]
  }
 ],
 "metadata": {
  "kernelspec": {
   "display_name": "ML_practice",
   "language": "python",
   "name": "python3"
  },
  "language_info": {
   "codemirror_mode": {
    "name": "ipython",
    "version": 3
   },
   "file_extension": ".py",
   "mimetype": "text/x-python",
   "name": "python",
   "nbconvert_exporter": "python",
   "pygments_lexer": "ipython3",
   "version": "3.11.8"
  }
 },
 "nbformat": 4,
 "nbformat_minor": 2
}
