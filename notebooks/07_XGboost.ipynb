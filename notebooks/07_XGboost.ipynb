{
 "cells": [
  {
   "cell_type": "markdown",
   "metadata": {},
   "source": [
    "### Imports"
   ]
  },
  {
   "cell_type": "code",
   "execution_count": 22,
   "metadata": {},
   "outputs": [],
   "source": [
    "import pandas as pd\n",
    "import numpy as np\n",
    "from pathlib import Path\n",
    "from xgboost import XGBClassifier\n",
    "from sklearn.model_selection import GridSearchCV, StratifiedKFold , train_test_split \n",
    "from sklearn.metrics import accuracy_score, classification_report, confusion_matrix\n",
    "import matplotlib.pyplot as plt\n",
    "import seaborn as sns"
   ]
  },
  {
   "cell_type": "markdown",
   "metadata": {},
   "source": [
    "### Constants"
   ]
  },
  {
   "cell_type": "code",
   "execution_count": 23,
   "metadata": {},
   "outputs": [],
   "source": [
    "base_path = Path(\"/Users/tusharsingh/Work/Project/tcga-mldl/results/data/data_splits\")\n",
    "plotdir= Path(\"/Users/tusharsingh/Work/Project/tcga-mldl/results/plots\")\n",
    "split_sets = {\n",
    "    # \"5pct_80\": base_path / \"5pct_80\",\n",
    "    # \"15pct_80\": base_path / \"15pct_80\",\n",
    "    \"25pct_80\": base_path / \"25pct_80\"\n",
    "}"
   ]
  },
  {
   "cell_type": "markdown",
   "metadata": {},
   "source": [
    "### Load Data"
   ]
  },
  {
   "cell_type": "code",
   "execution_count": 24,
   "metadata": {},
   "outputs": [],
   "source": [
    "def load_split_data(split_path):\n",
    "    split_path = Path(split_path)\n",
    "    X_train = pd.read_csv(split_path / \"X_train.csv\", index_col=0)\n",
    "    X_test = pd.read_csv(split_path / \"X_test.csv\", index_col=0)\n",
    "    y_train = pd.read_csv(split_path / \"y_train.csv\", index_col=0).squeeze()\n",
    "    y_test = pd.read_csv(split_path / \"y_test.csv\", index_col=0).squeeze()\n",
    "\n",
    "    X_train, X_val, y_train, y_val = train_test_split(\n",
    "        X_train, y_train, test_size=0.2, stratify=y_train, random_state=42\n",
    "    )\n",
    "\n",
    "    return X_train, y_train, X_val, X_test, y_val, y_test\n"
   ]
  },
  {
   "cell_type": "markdown",
   "metadata": {},
   "source": [
    "### XGBoost GridSearchCV Function"
   ]
  },
  {
   "cell_type": "code",
   "execution_count": 25,
   "metadata": {},
   "outputs": [],
   "source": [
    "from sklearn.model_selection import GridSearchCV\n",
    "from xgboost import XGBClassifier\n",
    "from sklearn.metrics import classification_report, confusion_matrix\n",
    "\n",
    "def run_xgb_gridsearch(X_train, y_train, X_val, y_val, X_test, y_test, cv_folds=5):\n",
    "    params = {\n",
    "        'n_estimators': [100,250],\n",
    "        'max_depth': [5],\n",
    "        'learning_rate': [0.01]\n",
    "    }\n",
    "\n",
    "    xgb = XGBClassifier(\n",
    "        seed=42,\n",
    "        objective='binary:logistic',\n",
    "        subsample=0.8,\n",
    "        colsample_bytree=0.5,\n",
    "        use_label_encoder=False,\n",
    "        verbosity=0\n",
    "    )\n",
    "\n",
    "    grid_search = GridSearchCV(\n",
    "        estimator=xgb,\n",
    "        param_grid=params,\n",
    "        scoring='accuracy',\n",
    "        verbose=2,\n",
    "        n_jobs=12,\n",
    "        cv=cv_folds\n",
    "    )\n",
    "\n",
    "    grid_search.fit(X_train, y_train)\n",
    "\n",
    "    # Retrain best model with early stopping on validation set\n",
    "    best_params = grid_search.best_params_\n",
    "\n",
    "    final_model = XGBClassifier(\n",
    "        **best_params,\n",
    "        seed=42,\n",
    "        objective='binary:logistic',\n",
    "        subsample=0.9,\n",
    "        colsample_bytree=0.5,\n",
    "        use_label_encoder=False,\n",
    "        verbosity=0,\n",
    "        early_stopping_rounds=10\n",
    "    )\n",
    "\n",
    "    final_model.fit(\n",
    "        X_train,\n",
    "        y_train,\n",
    "        eval_set=[(X_val, y_val)],\n",
    "        verbose=False\n",
    "    )\n",
    "\n",
    "    y_pred = final_model.predict(X_test)\n",
    "\n",
    "    return {\n",
    "        \"best_params\": best_params,\n",
    "        \"cv_best_score\": grid_search.best_score_,\n",
    "        \"report\": classification_report(y_test, y_pred, output_dict=True),\n",
    "        \"conf_matrix\": confusion_matrix(y_test, y_pred)\n",
    "    }\n"
   ]
  },
  {
   "cell_type": "markdown",
   "metadata": {},
   "source": [
    "### 5-Fold"
   ]
  },
  {
   "cell_type": "code",
   "execution_count": 26,
   "metadata": {},
   "outputs": [
    {
     "name": "stdout",
     "output_type": "stream",
     "text": [
      "25pct_80 (326, 9784) (326,) (82, 9784) (82,) (102, 9784) (102,)\n",
      "Fitting 5 folds for each of 2 candidates, totalling 10 fits\n",
      "[CV] END ..learning_rate=0.01, max_depth=5, n_estimators=100; total time= 3.1min\n",
      "[CV] END ..learning_rate=0.01, max_depth=5, n_estimators=100; total time= 3.1min\n",
      "[CV] END ..learning_rate=0.01, max_depth=5, n_estimators=100; total time= 3.1min\n",
      "[CV] END ..learning_rate=0.01, max_depth=5, n_estimators=100; total time= 3.1min\n",
      "[CV] END ..learning_rate=0.01, max_depth=5, n_estimators=100; total time= 3.1min\n",
      "[CV] END ..learning_rate=0.01, max_depth=5, n_estimators=250; total time= 3.7min\n",
      "[CV] END ..learning_rate=0.01, max_depth=5, n_estimators=250; total time= 3.7min\n",
      "[CV] END ..learning_rate=0.01, max_depth=5, n_estimators=250; total time= 3.7min\n",
      "[CV] END ..learning_rate=0.01, max_depth=5, n_estimators=250; total time= 3.7min\n",
      "[CV] END ..learning_rate=0.01, max_depth=5, n_estimators=250; total time= 3.7min\n"
     ]
    },
    {
     "data": {
      "text/html": [
       "<div>\n",
       "<style scoped>\n",
       "    .dataframe tbody tr th:only-of-type {\n",
       "        vertical-align: middle;\n",
       "    }\n",
       "\n",
       "    .dataframe tbody tr th {\n",
       "        vertical-align: top;\n",
       "    }\n",
       "\n",
       "    .dataframe thead th {\n",
       "        text-align: right;\n",
       "    }\n",
       "</style>\n",
       "<table border=\"1\" class=\"dataframe\">\n",
       "  <thead>\n",
       "    <tr style=\"text-align: right;\">\n",
       "      <th></th>\n",
       "      <th>Split</th>\n",
       "      <th>CV (5-fold) Accuracy</th>\n",
       "      <th>Best Params</th>\n",
       "      <th>Samples</th>\n",
       "      <th>Features</th>\n",
       "    </tr>\n",
       "  </thead>\n",
       "  <tbody>\n",
       "    <tr>\n",
       "      <th>0</th>\n",
       "      <td>25pct_80</td>\n",
       "      <td>0.6071</td>\n",
       "      <td>{'learning_rate': 0.01, 'max_depth': 5, 'n_est...</td>\n",
       "      <td>326</td>\n",
       "      <td>9784</td>\n",
       "    </tr>\n",
       "  </tbody>\n",
       "</table>\n",
       "</div>"
      ],
      "text/plain": [
       "      Split  CV (5-fold) Accuracy  \\\n",
       "0  25pct_80                0.6071   \n",
       "\n",
       "                                         Best Params  Samples  Features  \n",
       "0  {'learning_rate': 0.01, 'max_depth': 5, 'n_est...      326      9784  "
      ]
     },
     "execution_count": 26,
     "metadata": {},
     "output_type": "execute_result"
    }
   ],
   "source": [
    "results_xgb_5fold = []\n",
    "\n",
    "for name, path in split_sets.items():\n",
    "    X_train, y_train, X_val, X_test, y_val, y_test = load_split_data(path)\n",
    "    print(\n",
    "    name,\n",
    "    X_train.shape, y_train.shape,\n",
    "    X_val.shape, y_val.shape,\n",
    "    X_test.shape, y_test.shape\n",
    ")\n",
    "    out = run_xgb_gridsearch(X_train, y_train, X_val, y_val, X_test, y_test, cv_folds=5)\n",
    "\n",
    "    results_xgb_5fold.append({\n",
    "        \"Split\": name,\n",
    "        \"CV (5-fold) Accuracy\": round(out[\"cv_best_score\"], 4),\n",
    "        \"Best Params\": out[\"best_params\"],\n",
    "        \"Samples\": X_train.shape[0],\n",
    "        \"Features\": X_train.shape[1]\n",
    "    })\n",
    "\n",
    "results_xgb_5f = pd.DataFrame(results_xgb_5fold).sort_values(\"CV (5-fold) Accuracy\", ascending=False)\n",
    "results_xgb_5f\n"
   ]
  },
  {
   "cell_type": "code",
   "execution_count": 27,
   "metadata": {},
   "outputs": [
    {
     "data": {
      "text/plain": [
       "0    {'learning_rate': 0.01, 'max_depth': 5, 'n_est...\n",
       "Name: Best Params, dtype: object"
      ]
     },
     "execution_count": 27,
     "metadata": {},
     "output_type": "execute_result"
    }
   ],
   "source": [
    "results_xgb_5f['Best Params']"
   ]
  },
  {
   "cell_type": "code",
   "execution_count": 28,
   "metadata": {},
   "outputs": [
    {
     "ename": "KeyError",
     "evalue": "'15pct_80'",
     "output_type": "error",
     "traceback": [
      "\u001b[31m---------------------------------------------------------------------------\u001b[39m",
      "\u001b[31mKeyError\u001b[39m                                  Traceback (most recent call last)",
      "\u001b[36mCell\u001b[39m\u001b[36m \u001b[39m\u001b[32mIn[28]\u001b[39m\u001b[32m, line 1\u001b[39m\n\u001b[32m----> \u001b[39m\u001b[32m1\u001b[39m X_train, y_train, X_val, X_test, y_val, y_test = load_split_data(split_sets[\u001b[33m\"\u001b[39m\u001b[33m15pct_80\u001b[39m\u001b[33m\"\u001b[39m])\n\u001b[32m      2\u001b[39m out = run_xgb_gridsearch(X_train, y_train, X_val, y_val, X_test, y_test, cv_folds=\u001b[32m2\u001b[39m)\n\u001b[32m      3\u001b[39m pd.DataFrame(out[\u001b[33m\"\u001b[39m\u001b[33mreport\u001b[39m\u001b[33m\"\u001b[39m]).T\n",
      "\u001b[31mKeyError\u001b[39m: '15pct_80'"
     ]
    }
   ],
   "source": [
    "X_train, y_train, X_val, X_test, y_val, y_test = load_split_data(split_sets[\"15pct_80\"])\n",
    "out = run_xgb_gridsearch(X_train, y_train, X_val, y_val, X_test, y_test, cv_folds=2)\n",
    "pd.DataFrame(out[\"report\"]).T"
   ]
  },
  {
   "cell_type": "code",
   "execution_count": null,
   "metadata": {},
   "outputs": [
    {
     "data": {
      "image/png": "[encoded data removed]",
      "text/plain": [
       "<Figure size 640x480 with 2 Axes>"
      ]
     },
     "metadata": {},
     "output_type": "display_data"
    }
   ],
   "source": [
    "# Confusion Matrix\n",
    "sns.heatmap(out[\"conf_matrix\"], annot=True, fmt='d', cmap=\"PuRd\", cbar=True, annot_kws= {\"fontsize\":14})\n",
    "plt.title(f\"Confusion Matrix -15pct_80\", fontsize = 16 , pad = 10)\n",
    "plt.xlabel(\"Predicted\")\n",
    "plt.ylabel(\"Actual\")\n",
    "plt.savefig(plotdir/\"CF_Xgboost.png\", bbox_inches=\"tight\", dpi=300)\n",
    "plt.show()"
   ]
  }
 ],
 "metadata": {
  "kernelspec": {
   "display_name": "ML_practice",
   "language": "python",
   "name": "python3"
  },
  "language_info": {
   "codemirror_mode": {
    "name": "ipython",
    "version": 3
   },
   "file_extension": ".py",
   "mimetype": "text/x-python",
   "name": "python",
   "nbconvert_exporter": "python",
   "pygments_lexer": "ipython3",
   "version": "3.11.8"
  }
 },
 "nbformat": 4,
 "nbformat_minor": 2
}
