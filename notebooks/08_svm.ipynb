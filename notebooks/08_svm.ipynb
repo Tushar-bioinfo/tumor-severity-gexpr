{
 "cells": [
  {
   "cell_type": "markdown",
   "metadata": {},
   "source": [
    "### Imports"
   ]
  },
  {
   "cell_type": "code",
   "execution_count": 20,
   "metadata": {},
   "outputs": [],
   "source": [
    "import pandas as pd\n",
    "import numpy as np\n",
    "from pathlib import Path\n",
    "from sklearn.svm import SVC\n",
    "from sklearn.model_selection import GridSearchCV, StratifiedKFold\n",
    "from sklearn.metrics import accuracy_score, classification_report, confusion_matrix\n",
    "import seaborn as sns\n",
    "import matplotlib.pyplot as plt"
   ]
  },
  {
   "cell_type": "markdown",
   "metadata": {},
   "source": [
    "### Constants"
   ]
  },
  {
   "cell_type": "code",
   "execution_count": 21,
   "metadata": {},
   "outputs": [],
   "source": [
    "base_path = Path(\"/Users/tusharsingh/Work/Project/tcga-mldl/results/data/data_splits\")\n",
    "plotdir = Path(\"/Users/tusharsingh/Work/Project/tcga-mldl/results/plots\")\n",
    "split_sets = {\n",
    "    \"5pct_80\": base_path / \"5pct_80\",\n",
    "    \"15pct_80\": base_path / \"15pct_80\",\n",
    "    \"25pct_80\": base_path / \"25pct_80\"\n",
    "}"
   ]
  },
  {
   "cell_type": "markdown",
   "metadata": {},
   "source": [
    "### Load function"
   ]
  },
  {
   "cell_type": "code",
   "execution_count": 22,
   "metadata": {},
   "outputs": [],
   "source": [
    "def load_split_data(split_path):\n",
    "    split_path = Path(split_path)\n",
    "    X_train = pd.read_csv(split_path / \"X_train.csv\", index_col=0)\n",
    "    X_test = pd.read_csv(split_path / \"X_test.csv\", index_col=0)\n",
    "    y_train = pd.read_csv(split_path / \"y_train.csv\", index_col=0).squeeze()\n",
    "    y_test = pd.read_csv(split_path / \"y_test.csv\", index_col=0).squeeze()\n",
    "    return X_train, X_test, y_train, y_test\n"
   ]
  },
  {
   "cell_type": "markdown",
   "metadata": {},
   "source": [
    "### GridSearchCV "
   ]
  },
  {
   "cell_type": "code",
   "execution_count": 23,
   "metadata": {},
   "outputs": [],
   "source": [
    "def run_svm_gridsearch(X_train, y_train, X_test, y_test, cv_folds=5):\n",
    "    svc = SVC()\n",
    "\n",
    "    param_grid = [\n",
    "        {'kernel': ['rbf'], 'C': [ 1, 10, 100], 'gamma': ['scale', 'auto',1, 0.1]}\n",
    "    ]\n",
    "\n",
    "    grid = GridSearchCV(\n",
    "        svc,\n",
    "        param_grid,\n",
    "        cv=StratifiedKFold(n_splits=cv_folds, shuffle=True, random_state=42),\n",
    "        scoring='accuracy',\n",
    "        n_jobs=-1,\n",
    "        verbose=0\n",
    "    )\n",
    "\n",
    "    grid.fit(X_train, y_train)\n",
    "    best_model = grid.best_estimator_\n",
    "    y_pred = best_model.predict(X_test)\n",
    "\n",
    "    return {\n",
    "        \"best_params\": grid.best_params_,\n",
    "        \"cv_best_score\": grid.best_score_,\n",
    "        #\"test_acc\": accuracy_score(y_test, y_pred),\n",
    "        \"report\": classification_report(y_test, y_pred, output_dict=True),\n",
    "        \"conf_matrix\": confusion_matrix(y_test, y_pred)\n",
    "    }\n"
   ]
  },
  {
   "cell_type": "markdown",
   "metadata": {},
   "source": [
    "### 5-FOLD"
   ]
  },
  {
   "cell_type": "code",
   "execution_count": 24,
   "metadata": {},
   "outputs": [
    {
     "data": {
      "text/html": [
       "<div>\n",
       "<style scoped>\n",
       "    .dataframe tbody tr th:only-of-type {\n",
       "        vertical-align: middle;\n",
       "    }\n",
       "\n",
       "    .dataframe tbody tr th {\n",
       "        vertical-align: top;\n",
       "    }\n",
       "\n",
       "    .dataframe thead th {\n",
       "        text-align: right;\n",
       "    }\n",
       "</style>\n",
       "<table border=\"1\" class=\"dataframe\">\n",
       "  <thead>\n",
       "    <tr style=\"text-align: right;\">\n",
       "      <th></th>\n",
       "      <th>Split</th>\n",
       "      <th>Samples</th>\n",
       "      <th>Features</th>\n",
       "      <th>CV Accuracy</th>\n",
       "      <th>Best Params</th>\n",
       "    </tr>\n",
       "  </thead>\n",
       "  <tbody>\n",
       "    <tr>\n",
       "      <th>2</th>\n",
       "      <td>25pct_80</td>\n",
       "      <td>408</td>\n",
       "      <td>9784</td>\n",
       "      <td>0.7036</td>\n",
       "      <td>{'C': 10, 'gamma': 'auto', 'kernel': 'rbf'}</td>\n",
       "    </tr>\n",
       "    <tr>\n",
       "      <th>1</th>\n",
       "      <td>15pct_80</td>\n",
       "      <td>408</td>\n",
       "      <td>5870</td>\n",
       "      <td>0.6962</td>\n",
       "      <td>{'C': 10, 'gamma': 'scale', 'kernel': 'rbf'}</td>\n",
       "    </tr>\n",
       "    <tr>\n",
       "      <th>0</th>\n",
       "      <td>5pct_80</td>\n",
       "      <td>408</td>\n",
       "      <td>1956</td>\n",
       "      <td>0.6740</td>\n",
       "      <td>{'C': 1, 'gamma': 'auto', 'kernel': 'rbf'}</td>\n",
       "    </tr>\n",
       "  </tbody>\n",
       "</table>\n",
       "</div>"
      ],
      "text/plain": [
       "      Split  Samples  Features  CV Accuracy  \\\n",
       "2  25pct_80      408      9784       0.7036   \n",
       "1  15pct_80      408      5870       0.6962   \n",
       "0   5pct_80      408      1956       0.6740   \n",
       "\n",
       "                                    Best Params  \n",
       "2   {'C': 10, 'gamma': 'auto', 'kernel': 'rbf'}  \n",
       "1  {'C': 10, 'gamma': 'scale', 'kernel': 'rbf'}  \n",
       "0    {'C': 1, 'gamma': 'auto', 'kernel': 'rbf'}  "
      ]
     },
     "execution_count": 24,
     "metadata": {},
     "output_type": "execute_result"
    }
   ],
   "source": [
    "results_svm_5fold = []\n",
    "\n",
    "for name, path in split_sets.items():\n",
    "    X_train, X_test, y_train, y_test = load_split_data(path)\n",
    "    out = run_svm_gridsearch(X_train, y_train, X_test, y_test, cv_folds=5)\n",
    "\n",
    "    results_svm_5fold.append({\n",
    "        \"Split\": name,\n",
    "        \"Samples\": X_train.shape[0],\n",
    "        \"Features\": X_train.shape[1],\n",
    "        \"CV Accuracy\": round(out[\"cv_best_score\"], 4),\n",
    "        #\"Test Accuracy\": round(out[\"test_acc\"], 4),\n",
    "        \"Best Params\": out[\"best_params\"]\n",
    "    })\n",
    "\n",
    "results_svm_5f = pd.DataFrame(results_svm_5fold).sort_values(\"CV Accuracy\", ascending=False)\n",
    "results_svm_5f\n"
   ]
  },
  {
   "cell_type": "markdown",
   "metadata": {},
   "source": [
    "### 10-Fold"
   ]
  },
  {
   "cell_type": "code",
   "execution_count": 25,
   "metadata": {},
   "outputs": [
    {
     "data": {
      "text/html": [
       "<div>\n",
       "<style scoped>\n",
       "    .dataframe tbody tr th:only-of-type {\n",
       "        vertical-align: middle;\n",
       "    }\n",
       "\n",
       "    .dataframe tbody tr th {\n",
       "        vertical-align: top;\n",
       "    }\n",
       "\n",
       "    .dataframe thead th {\n",
       "        text-align: right;\n",
       "    }\n",
       "</style>\n",
       "<table border=\"1\" class=\"dataframe\">\n",
       "  <thead>\n",
       "    <tr style=\"text-align: right;\">\n",
       "      <th></th>\n",
       "      <th>Split</th>\n",
       "      <th>Samples</th>\n",
       "      <th>Features</th>\n",
       "      <th>CV Accuracy</th>\n",
       "      <th>Best Params</th>\n",
       "    </tr>\n",
       "  </thead>\n",
       "  <tbody>\n",
       "    <tr>\n",
       "      <th>1</th>\n",
       "      <td>15pct_80</td>\n",
       "      <td>408</td>\n",
       "      <td>5870</td>\n",
       "      <td>0.7038</td>\n",
       "      <td>{'C': 10, 'gamma': 'scale', 'kernel': 'rbf'}</td>\n",
       "    </tr>\n",
       "    <tr>\n",
       "      <th>2</th>\n",
       "      <td>25pct_80</td>\n",
       "      <td>408</td>\n",
       "      <td>9784</td>\n",
       "      <td>0.7038</td>\n",
       "      <td>{'C': 10, 'gamma': 'scale', 'kernel': 'rbf'}</td>\n",
       "    </tr>\n",
       "    <tr>\n",
       "      <th>0</th>\n",
       "      <td>5pct_80</td>\n",
       "      <td>408</td>\n",
       "      <td>1956</td>\n",
       "      <td>0.6742</td>\n",
       "      <td>{'C': 1, 'gamma': 'scale', 'kernel': 'rbf'}</td>\n",
       "    </tr>\n",
       "  </tbody>\n",
       "</table>\n",
       "</div>"
      ],
      "text/plain": [
       "      Split  Samples  Features  CV Accuracy  \\\n",
       "1  15pct_80      408      5870       0.7038   \n",
       "2  25pct_80      408      9784       0.7038   \n",
       "0   5pct_80      408      1956       0.6742   \n",
       "\n",
       "                                    Best Params  \n",
       "1  {'C': 10, 'gamma': 'scale', 'kernel': 'rbf'}  \n",
       "2  {'C': 10, 'gamma': 'scale', 'kernel': 'rbf'}  \n",
       "0   {'C': 1, 'gamma': 'scale', 'kernel': 'rbf'}  "
      ]
     },
     "execution_count": 25,
     "metadata": {},
     "output_type": "execute_result"
    }
   ],
   "source": [
    "results_svm_10fold = []\n",
    "\n",
    "for name, path in split_sets.items():\n",
    "    X_train, X_test, y_train, y_test = load_split_data(path)\n",
    "    out = run_svm_gridsearch(X_train, y_train, X_test, y_test, cv_folds=10)\n",
    "\n",
    "    results_svm_10fold.append({\n",
    "        \"Split\": name,\n",
    "        \"Samples\": X_train.shape[0],\n",
    "        \"Features\": X_train.shape[1],\n",
    "        \"CV Accuracy\": round(out[\"cv_best_score\"], 4),\n",
    "        #\"Test Accuracy\": round(out[\"test_acc\"], 4),\n",
    "        \"Best Params\": out[\"best_params\"]\n",
    "    })\n",
    "\n",
    "results_svm_10f = pd.DataFrame(results_svm_10fold).sort_values(\"CV Accuracy\", ascending=False)\n",
    "results_svm_10f\n"
   ]
  },
  {
   "cell_type": "code",
   "execution_count": 26,
   "metadata": {},
   "outputs": [
    {
     "data": {
      "text/html": [
       "<div>\n",
       "<style scoped>\n",
       "    .dataframe tbody tr th:only-of-type {\n",
       "        vertical-align: middle;\n",
       "    }\n",
       "\n",
       "    .dataframe tbody tr th {\n",
       "        vertical-align: top;\n",
       "    }\n",
       "\n",
       "    .dataframe thead th {\n",
       "        text-align: right;\n",
       "    }\n",
       "</style>\n",
       "<table border=\"1\" class=\"dataframe\">\n",
       "  <thead>\n",
       "    <tr style=\"text-align: right;\">\n",
       "      <th></th>\n",
       "      <th>precision</th>\n",
       "      <th>recall</th>\n",
       "      <th>f1-score</th>\n",
       "      <th>support</th>\n",
       "    </tr>\n",
       "  </thead>\n",
       "  <tbody>\n",
       "    <tr>\n",
       "      <th>0</th>\n",
       "      <td>0.788462</td>\n",
       "      <td>0.732143</td>\n",
       "      <td>0.759259</td>\n",
       "      <td>56.000000</td>\n",
       "    </tr>\n",
       "    <tr>\n",
       "      <th>1</th>\n",
       "      <td>0.700000</td>\n",
       "      <td>0.760870</td>\n",
       "      <td>0.729167</td>\n",
       "      <td>46.000000</td>\n",
       "    </tr>\n",
       "    <tr>\n",
       "      <th>accuracy</th>\n",
       "      <td>0.745098</td>\n",
       "      <td>0.745098</td>\n",
       "      <td>0.745098</td>\n",
       "      <td>0.745098</td>\n",
       "    </tr>\n",
       "    <tr>\n",
       "      <th>macro avg</th>\n",
       "      <td>0.744231</td>\n",
       "      <td>0.746506</td>\n",
       "      <td>0.744213</td>\n",
       "      <td>102.000000</td>\n",
       "    </tr>\n",
       "    <tr>\n",
       "      <th>weighted avg</th>\n",
       "      <td>0.748567</td>\n",
       "      <td>0.745098</td>\n",
       "      <td>0.745688</td>\n",
       "      <td>102.000000</td>\n",
       "    </tr>\n",
       "  </tbody>\n",
       "</table>\n",
       "</div>"
      ],
      "text/plain": [
       "              precision    recall  f1-score     support\n",
       "0              0.788462  0.732143  0.759259   56.000000\n",
       "1              0.700000  0.760870  0.729167   46.000000\n",
       "accuracy       0.745098  0.745098  0.745098    0.745098\n",
       "macro avg      0.744231  0.746506  0.744213  102.000000\n",
       "weighted avg   0.748567  0.745098  0.745688  102.000000"
      ]
     },
     "execution_count": 26,
     "metadata": {},
     "output_type": "execute_result"
    }
   ],
   "source": [
    "# Analyze one split in detail, e.g., \"15pct_80\"\n",
    "X_train, X_test, y_train, y_test = load_split_data(split_sets[\"15pct_80\"])\n",
    "out = run_svm_gridsearch(X_train, y_train, X_test, y_test, cv_folds=10)\n",
    "# Classification report\n",
    "pd.DataFrame(out[\"report\"]).T\n"
   ]
  },
  {
   "cell_type": "code",
   "execution_count": 27,
   "metadata": {},
   "outputs": [
    {
     "data": {
      "image/png": "[encoded data removed]",
      "text/plain": [
       "<Figure size 640x480 with 2 Axes>"
      ]
     },
     "metadata": {},
     "output_type": "display_data"
    }
   ],
   "source": [
    "sns.heatmap(out[\"conf_matrix\"], annot=True, fmt='d', cmap=\"PuRd\", cbar=True, annot_kws= {\"fontsize\":14})\n",
    "plt.title(f\"Confusion Matrix - 15pct_80\", fontsize = 16 , pad = 10)\n",
    "plt.xlabel(\"Predicted\")\n",
    "plt.ylabel(\"Actual\")\n",
    "plt.savefig(plotdir/\"CF_logistic.png\", bbox_inches=\"tight\", dpi=300)\n",
    "plt.show()\n"
   ]
  },
  {
   "cell_type": "code",
   "execution_count": 28,
   "metadata": {},
   "outputs": [],
   "source": [
    "results_svm_5f.to_csv(\"/Users/tusharsingh/Work/Project/tcga-mldl/results/data/svm_5f_results.csv\")\n",
    "results_svm_10f.to_csv(\"/Users/tusharsingh/Work/Project/tcga-mldl/results/data/svm_forest_10f_results.csv\")"
   ]
  }
 ],
 "metadata": {
  "kernelspec": {
   "display_name": "ML_practice",
   "language": "python",
   "name": "python3"
  },
  "language_info": {
   "codemirror_mode": {
    "name": "ipython",
    "version": 3
   },
   "file_extension": ".py",
   "mimetype": "text/x-python",
   "name": "python",
   "nbconvert_exporter": "python",
   "pygments_lexer": "ipython3",
   "version": "3.11.8"
  }
 },
 "nbformat": 4,
 "nbformat_minor": 2
}
