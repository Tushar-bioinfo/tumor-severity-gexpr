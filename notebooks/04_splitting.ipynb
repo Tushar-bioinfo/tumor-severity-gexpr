{
 "cells": [
  {
   "cell_type": "markdown",
   "metadata": {},
   "source": [
    "### Imports"
   ]
  },
  {
   "cell_type": "code",
   "execution_count": 21,
   "metadata": {},
   "outputs": [],
   "source": [
    "from pathlib import Path\n",
    "import pandas as pd\n",
    "from sklearn.model_selection import train_test_split\n",
    "from sklearn.preprocessing import StandardScaler"
   ]
  },
  {
   "cell_type": "markdown",
   "metadata": {},
   "source": [
    "### Constants"
   ]
  },
  {
   "cell_type": "code",
   "execution_count": 22,
   "metadata": {},
   "outputs": [],
   "source": [
    "base_dir = Path(\"/Users/tusharsingh/Work/Project/tcga-mldl/results/data/data_splits\")\n",
    "\n",
    "target = Path(\"/Users/tusharsingh/Work/Project/tcga-mldl/results/data/target.csv\")\n",
    "X_5pct_file = Path(\"/Users/tusharsingh/Work/Project/tcga-mldl/results/data/X_5pct.csv\")\n",
    "X_15pct_file = Path(\"/Users/tusharsingh/Work/Project/tcga-mldl/results/data/X_15pct.csv\")\n",
    "X_25pct_file = Path(\"/Users/tusharsingh/Work/Project/tcga-mldl/results/data/X_25pct.csv\")"
   ]
  },
  {
   "cell_type": "markdown",
   "metadata": {},
   "source": [
    "### Load Data"
   ]
  },
  {
   "cell_type": "code",
   "execution_count": 23,
   "metadata": {},
   "outputs": [],
   "source": [
    "X_5pct = pd.read_csv(X_5pct_file, index_col = 0)\n",
    "X_15pct = pd.read_csv(X_15pct_file, index_col = 0)\n",
    "X_25pct = pd.read_csv(X_25pct_file, index_col = 0)\n",
    "y = pd.read_csv(target, index_col = 0)\n",
    "y_labels = y['severity']"
   ]
  },
  {
   "cell_type": "code",
   "execution_count": 24,
   "metadata": {},
   "outputs": [],
   "source": [
    "# Define feature sets\n",
    "anova_sets = {\n",
    "    \"5pct\": X_5pct,\n",
    "    \"15pct\": X_15pct,\n",
    "    \"25pct\": X_25pct\n",
    "}\n",
    "splits = {\n",
    "    \"70\": 0.3,\n",
    "    \"80\": 0.2\n",
    "}"
   ]
  },
  {
   "cell_type": "markdown",
   "metadata": {},
   "source": [
    "### Split into train & test"
   ]
  },
  {
   "cell_type": "code",
   "execution_count": 25,
   "metadata": {},
   "outputs": [],
   "source": [
    "# Loop over combinations\n",
    "for set_name, X in anova_sets.items():\n",
    "    for split_name, test_size in splits.items():\n",
    "        # Train-test split\n",
    "        X_train, X_test, y_train, y_test = train_test_split(\n",
    "            X, y_labels, test_size=test_size, stratify=y_labels, random_state=42\n",
    "        )\n",
    "\n",
    "        # Standardize\n",
    "        scaler = StandardScaler().fit(X_train)\n",
    "        X_train_scaled = pd.DataFrame(scaler.transform(X_train), columns=X.columns, index=X_train.index)\n",
    "        X_test_scaled = pd.DataFrame(scaler.transform(X_test), columns=X.columns, index=X_test.index)\n",
    "\n",
    "        # Output directory\n",
    "        out_dir = base_dir / f\"{set_name}_{split_name}\"\n",
    "        out_dir.mkdir(parents=True, exist_ok=True)\n",
    "\n",
    "        # Save to CSV\n",
    "        X_train_scaled.to_csv(out_dir / \"X_train.csv\")\n",
    "        X_test_scaled.to_csv(out_dir / \"X_test.csv\")\n",
    "        y_train.to_csv(out_dir / \"y_train.csv\", index=True)\n",
    "        y_test.to_csv(out_dir / \"y_test.csv\", index=True)"
   ]
  }
 ],
 "metadata": {
  "kernelspec": {
   "display_name": "ML_practice",
   "language": "python",
   "name": "python3"
  },
  "language_info": {
   "codemirror_mode": {
    "name": "ipython",
    "version": 3
   },
   "file_extension": ".py",
   "mimetype": "text/x-python",
   "name": "python",
   "nbconvert_exporter": "python",
   "pygments_lexer": "ipython3",
   "version": "3.11.8"
  }
 },
 "nbformat": 4,
 "nbformat_minor": 2
}
