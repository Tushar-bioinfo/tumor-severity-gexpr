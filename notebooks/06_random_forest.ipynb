{
 "cells": [
  {
   "cell_type": "markdown",
   "metadata": {},
   "source": [
    "### Imports"
   ]
  },
  {
   "cell_type": "code",
   "execution_count": 18,
   "metadata": {},
   "outputs": [],
   "source": [
    "import pandas as pd\n",
    "import numpy as np\n",
    "from pathlib import Path\n",
    "from sklearn.ensemble import RandomForestClassifier\n",
    "from sklearn.model_selection import GridSearchCV, StratifiedKFold\n",
    "from sklearn.metrics import accuracy_score, classification_report, confusion_matrix\n",
    "import seaborn as sns\n",
    "import matplotlib.pyplot as plt"
   ]
  },
  {
   "cell_type": "markdown",
   "metadata": {},
   "source": [
    "### Constants"
   ]
  },
  {
   "cell_type": "code",
   "execution_count": 19,
   "metadata": {},
   "outputs": [],
   "source": [
    "base_path = Path(\"/Users/tusharsingh/Work/Project/tcga-mldl/results/data/data_splits\")\n",
    "plotdir = Path(\"/Users/tusharsingh/Work/Project/tcga-mldl/results/plots\")\n",
    "\n",
    "split_sets = {\n",
    "    \"5pct_80\": base_path / \"5pct_80\",\n",
    "    \"15pct_80\": base_path / \"15pct_80\",\n",
    "    \"25pct_80\": base_path / \"25pct_80\"\n",
    "}\n"
   ]
  },
  {
   "cell_type": "markdown",
   "metadata": {},
   "source": [
    "### Load Data"
   ]
  },
  {
   "cell_type": "code",
   "execution_count": 20,
   "metadata": {},
   "outputs": [],
   "source": [
    "def load_split_data(split_path):\n",
    "    split_path = Path(split_path)\n",
    "    X_train = pd.read_csv(split_path / \"X_train.csv\", index_col=0)\n",
    "    X_test = pd.read_csv(split_path / \"X_test.csv\", index_col=0)\n",
    "    y_train = pd.read_csv(split_path / \"y_train.csv\", index_col=0).squeeze()\n",
    "    y_test = pd.read_csv(split_path / \"y_test.csv\", index_col=0).squeeze()\n",
    "    return X_train, X_test, y_train, y_test\n"
   ]
  },
  {
   "cell_type": "markdown",
   "metadata": {},
   "source": [
    "### GridsearchCV Wrapper"
   ]
  },
  {
   "cell_type": "code",
   "execution_count": 21,
   "metadata": {},
   "outputs": [],
   "source": [
    "def run_rf_gridsearch(X_train, y_train, X_test, y_test, cv_folds=5):\n",
    "    rf = RandomForestClassifier(random_state=42)\n",
    "\n",
    "    param_grid = {\n",
    "        'n_estimators': [100,200,250],\n",
    "        'max_depth': [None,5,12,15],\n",
    "        'min_samples_split': [2,3]\n",
    "    }\n",
    "\n",
    "    grid = GridSearchCV(\n",
    "        rf, param_grid, cv=StratifiedKFold(n_splits=cv_folds, shuffle=True, random_state=42),\n",
    "        scoring='accuracy', n_jobs=-1, verbose=0\n",
    "    )\n",
    "\n",
    "    grid.fit(X_train, y_train)\n",
    "    best_model = grid.best_estimator_\n",
    "    y_pred = best_model.predict(X_test)\n",
    "\n",
    "    return {\n",
    "        \"best_params\": grid.best_params_,\n",
    "        \"cv_best_score\": grid.best_score_,\n",
    "       # \"test_acc\": accuracy_score(y_test, y_pred),\n",
    "        \"report\": classification_report(y_test, y_pred, output_dict=True),\n",
    "        \"conf_matrix\": confusion_matrix(y_test, y_pred)\n",
    "    }\n"
   ]
  },
  {
   "cell_type": "code",
   "execution_count": 22,
   "metadata": {},
   "outputs": [
    {
     "data": {
      "text/html": [
       "<div>\n",
       "<style scoped>\n",
       "    .dataframe tbody tr th:only-of-type {\n",
       "        vertical-align: middle;\n",
       "    }\n",
       "\n",
       "    .dataframe tbody tr th {\n",
       "        vertical-align: top;\n",
       "    }\n",
       "\n",
       "    .dataframe thead th {\n",
       "        text-align: right;\n",
       "    }\n",
       "</style>\n",
       "<table border=\"1\" class=\"dataframe\">\n",
       "  <thead>\n",
       "    <tr style=\"text-align: right;\">\n",
       "      <th></th>\n",
       "      <th>Split</th>\n",
       "      <th>Samples</th>\n",
       "      <th>Features</th>\n",
       "      <th>CV (5-fold) Accuracy</th>\n",
       "      <th>Best Params</th>\n",
       "    </tr>\n",
       "  </thead>\n",
       "  <tbody>\n",
       "    <tr>\n",
       "      <th>1</th>\n",
       "      <td>15pct_80</td>\n",
       "      <td>408</td>\n",
       "      <td>5870</td>\n",
       "      <td>0.6472</td>\n",
       "      <td>{'max_depth': 15, 'min_samples_split': 2, 'n_e...</td>\n",
       "    </tr>\n",
       "    <tr>\n",
       "      <th>0</th>\n",
       "      <td>5pct_80</td>\n",
       "      <td>408</td>\n",
       "      <td>1956</td>\n",
       "      <td>0.6447</td>\n",
       "      <td>{'max_depth': 12, 'min_samples_split': 3, 'n_e...</td>\n",
       "    </tr>\n",
       "    <tr>\n",
       "      <th>2</th>\n",
       "      <td>25pct_80</td>\n",
       "      <td>408</td>\n",
       "      <td>9784</td>\n",
       "      <td>0.6300</td>\n",
       "      <td>{'max_depth': 15, 'min_samples_split': 2, 'n_e...</td>\n",
       "    </tr>\n",
       "  </tbody>\n",
       "</table>\n",
       "</div>"
      ],
      "text/plain": [
       "      Split  Samples  Features  CV (5-fold) Accuracy  \\\n",
       "1  15pct_80      408      5870                0.6472   \n",
       "0   5pct_80      408      1956                0.6447   \n",
       "2  25pct_80      408      9784                0.6300   \n",
       "\n",
       "                                         Best Params  \n",
       "1  {'max_depth': 15, 'min_samples_split': 2, 'n_e...  \n",
       "0  {'max_depth': 12, 'min_samples_split': 3, 'n_e...  \n",
       "2  {'max_depth': 15, 'min_samples_split': 2, 'n_e...  "
      ]
     },
     "execution_count": 22,
     "metadata": {},
     "output_type": "execute_result"
    }
   ],
   "source": [
    "results_rf_5fold = []\n",
    "\n",
    "for name, path in split_sets.items():\n",
    "    X_train, X_test, y_train, y_test = load_split_data(path)\n",
    "    out = run_rf_gridsearch(X_train, y_train, X_test, y_test, cv_folds=5)\n",
    "\n",
    "    results_rf_5fold.append({\n",
    "        \"Split\": name,\n",
    "        \"Samples\": X_train.shape[0],\n",
    "        \"Features\": X_train.shape[1],\n",
    "        \"CV (5-fold) Accuracy\": round(out[\"cv_best_score\"], 4),\n",
    "        #\"Test Accuracy\": round(out[\"test_acc\"], 4),\n",
    "        \"Best Params\": out[\"best_params\"]\n",
    "    })\n",
    "\n",
    "results_rf_5fold = pd.DataFrame(results_rf_5fold).sort_values(\"CV (5-fold) Accuracy\", ascending=False)\n",
    "results_rf_5fold\n"
   ]
  },
  {
   "cell_type": "code",
   "execution_count": 23,
   "metadata": {},
   "outputs": [
    {
     "data": {
      "text/html": [
       "<div>\n",
       "<style scoped>\n",
       "    .dataframe tbody tr th:only-of-type {\n",
       "        vertical-align: middle;\n",
       "    }\n",
       "\n",
       "    .dataframe tbody tr th {\n",
       "        vertical-align: top;\n",
       "    }\n",
       "\n",
       "    .dataframe thead th {\n",
       "        text-align: right;\n",
       "    }\n",
       "</style>\n",
       "<table border=\"1\" class=\"dataframe\">\n",
       "  <thead>\n",
       "    <tr style=\"text-align: right;\">\n",
       "      <th></th>\n",
       "      <th>Split</th>\n",
       "      <th>Samples</th>\n",
       "      <th>Features</th>\n",
       "      <th>CV (10-fold) Accuracy</th>\n",
       "      <th>Best Params</th>\n",
       "    </tr>\n",
       "  </thead>\n",
       "  <tbody>\n",
       "    <tr>\n",
       "      <th>1</th>\n",
       "      <td>15pct_80</td>\n",
       "      <td>408</td>\n",
       "      <td>5870</td>\n",
       "      <td>0.6620</td>\n",
       "      <td>{'max_depth': 15, 'min_samples_split': 2, 'n_e...</td>\n",
       "    </tr>\n",
       "    <tr>\n",
       "      <th>0</th>\n",
       "      <td>5pct_80</td>\n",
       "      <td>408</td>\n",
       "      <td>1956</td>\n",
       "      <td>0.6595</td>\n",
       "      <td>{'max_depth': 5, 'min_samples_split': 2, 'n_es...</td>\n",
       "    </tr>\n",
       "    <tr>\n",
       "      <th>2</th>\n",
       "      <td>25pct_80</td>\n",
       "      <td>408</td>\n",
       "      <td>9784</td>\n",
       "      <td>0.6376</td>\n",
       "      <td>{'max_depth': None, 'min_samples_split': 2, 'n...</td>\n",
       "    </tr>\n",
       "  </tbody>\n",
       "</table>\n",
       "</div>"
      ],
      "text/plain": [
       "      Split  Samples  Features  CV (10-fold) Accuracy  \\\n",
       "1  15pct_80      408      5870                 0.6620   \n",
       "0   5pct_80      408      1956                 0.6595   \n",
       "2  25pct_80      408      9784                 0.6376   \n",
       "\n",
       "                                         Best Params  \n",
       "1  {'max_depth': 15, 'min_samples_split': 2, 'n_e...  \n",
       "0  {'max_depth': 5, 'min_samples_split': 2, 'n_es...  \n",
       "2  {'max_depth': None, 'min_samples_split': 2, 'n...  "
      ]
     },
     "execution_count": 23,
     "metadata": {},
     "output_type": "execute_result"
    }
   ],
   "source": [
    "results_rf_10fold = []\n",
    "\n",
    "for name, path in split_sets.items():\n",
    "    X_train, X_test, y_train, y_test = load_split_data(path)\n",
    "    out = run_rf_gridsearch(X_train, y_train, X_test, y_test, cv_folds=10)\n",
    "\n",
    "    results_rf_10fold.append({\n",
    "        \"Split\": name,\n",
    "        \"Samples\": X_train.shape[0],\n",
    "        \"Features\": X_train.shape[1],\n",
    "        \"CV (10-fold) Accuracy\": round(out[\"cv_best_score\"], 4),\n",
    "        #\"Test Accuracy\": round(out[\"test_acc\"], 4),\n",
    "        \"Best Params\": out[\"best_params\"]\n",
    "    })\n",
    "\n",
    "results_rf_10fold = pd.DataFrame(results_rf_10fold).sort_values(\"CV (10-fold) Accuracy\", ascending=False)\n",
    "results_rf_10fold\n"
   ]
  },
  {
   "cell_type": "code",
   "execution_count": 24,
   "metadata": {},
   "outputs": [
    {
     "data": {
      "image/png": "[encoded data removed]",
      "text/plain": [
       "<Figure size 640x480 with 2 Axes>"
      ]
     },
     "metadata": {},
     "output_type": "display_data"
    }
   ],
   "source": [
    "# For any split, e.g., \"25pct_80\"\n",
    "X_train, X_test, y_train, y_test = load_split_data(split_sets[\"5pct_80\"])\n",
    "out = run_rf_gridsearch(X_train, y_train, X_test, y_test, cv_folds=5)\n",
    "\n",
    "# Plot confusion matrix\n",
    "sns.heatmap(out[\"conf_matrix\"], annot=True, fmt='d', cmap=\"PuRd\", cbar=True, annot_kws= {\"fontsize\":14})\n",
    "plt.title(f\"Confusion Matrix - 5pct_80\", fontsize = 16 , pad = 10)\n",
    "plt.xlabel(\"Predicted\")\n",
    "plt.ylabel(\"Actual\")\n",
    "plt.savefig(plotdir/\"CF_random_forest.png\", bbox_inches=\"tight\", dpi=300)\n",
    "plt.show()\n"
   ]
  },
  {
   "cell_type": "markdown",
   "metadata": {},
   "source": [
    "### Save Results"
   ]
  },
  {
   "cell_type": "code",
   "execution_count": 25,
   "metadata": {},
   "outputs": [],
   "source": [
    "results_rf_5fold.to_csv(\"/Users/tusharsingh/Work/Project/tcga-mldl/results/data/Random_forest_5f_results.csv\")\n",
    "results_rf_10fold.to_csv(\"/Users/tusharsingh/Work/Project/tcga-mldl/results/data/Random_forest_10f_results.csv\")"
   ]
  }
 ],
 "metadata": {
  "kernelspec": {
   "display_name": "ML_practice",
   "language": "python",
   "name": "python3"
  },
  "language_info": {
   "codemirror_mode": {
    "name": "ipython",
    "version": 3
   },
   "file_extension": ".py",
   "mimetype": "text/x-python",
   "name": "python",
   "nbconvert_exporter": "python",
   "pygments_lexer": "ipython3",
   "version": "3.11.8"
  }
 },
 "nbformat": 4,
 "nbformat_minor": 2
}
