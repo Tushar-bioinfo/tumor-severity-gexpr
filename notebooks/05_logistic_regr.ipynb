{
 "cells": [
  {
   "cell_type": "markdown",
   "metadata": {},
   "source": [
    "### Imports"
   ]
  },
  {
   "cell_type": "code",
   "execution_count": 15,
   "metadata": {},
   "outputs": [],
   "source": [
    "import pandas as pd\n",
    "import numpy as np\n",
    "from pathlib import Path\n",
    "from sklearn.linear_model import LogisticRegression\n",
    "from sklearn.model_selection import StratifiedKFold, cross_val_score\n",
    "from sklearn.metrics import accuracy_score, classification_report, confusion_matrix\n",
    "import seaborn as sns\n",
    "import matplotlib.pyplot as plt\n",
    "import warnings\n",
    "warnings.filterwarnings(\"ignore\")"
   ]
  },
  {
   "cell_type": "markdown",
   "metadata": {},
   "source": [
    "### Constants"
   ]
  },
  {
   "cell_type": "code",
   "execution_count": 16,
   "metadata": {},
   "outputs": [],
   "source": [
    "base_path = Path(\"/Users/tusharsingh/Work/Project/tcga-mldl/results/data/data_splits\")\n",
    "plotdir = Path(\"/Users/tusharsingh/Work/Project/tcga-mldl/results/plots\")\n",
    "split_sets = {\n",
    "    \"5pct_70\": base_path / \"5pct_70\",\n",
    "    \"5pct_80\": base_path / \"5pct_80\",\n",
    "    \"15pct_70\": base_path / \"15pct_70\",\n",
    "    \"15pct_80\": base_path / \"15pct_80\",\n",
    "    \"25pct_70\": base_path / \"25pct_70\",\n",
    "    \"25pct_80\": base_path / \"25pct_80\"\n",
    "}"
   ]
  },
  {
   "cell_type": "markdown",
   "metadata": {},
   "source": [
    "### Load Data"
   ]
  },
  {
   "cell_type": "code",
   "execution_count": 17,
   "metadata": {},
   "outputs": [],
   "source": [
    "# Helper func\n",
    "def load_split_data(split_path):\n",
    "    split_path = Path(split_path)\n",
    "    X_train = pd.read_csv(split_path / \"X_train.csv\", index_col=0)\n",
    "    X_test = pd.read_csv(split_path / \"X_test.csv\", index_col=0)\n",
    "    y_train = pd.read_csv(split_path / \"y_train.csv\", index_col=0).squeeze()\n",
    "    y_test = pd.read_csv(split_path / \"y_test.csv\", index_col=0).squeeze()\n",
    "    return X_train, X_test, y_train, y_test\n"
   ]
  },
  {
   "cell_type": "markdown",
   "metadata": {},
   "source": [
    "### Model function"
   ]
  },
  {
   "cell_type": "code",
   "execution_count": 18,
   "metadata": {},
   "outputs": [],
   "source": [
    "def evaluate_lasso_logreg(X_train, y_train, X_test, y_test, cv_folds=5):\n",
    "    clf = LogisticRegression(penalty='l1', solver='liblinear', max_iter=1000, random_state=42 , C = 1000)\n",
    "\n",
    "    # Cross-validation accuracy\n",
    "    cv = StratifiedKFold(n_splits=cv_folds, shuffle=True, random_state=42)\n",
    "    cv_scores = cross_val_score(clf, X_train, y_train, cv=cv, scoring='accuracy')\n",
    "\n",
    "    # Fit on full training data, evaluate on test\n",
    "    clf.fit(X_train, y_train)\n",
    "    y_pred = clf.predict(X_test)\n",
    "\n",
    "    # Accuracy\n",
    "    #test_acc = accuracy_score(y_test, y_pred)\n",
    "    report = classification_report(y_test, y_pred, output_dict=True)\n",
    "    conf = confusion_matrix(y_test, y_pred)\n",
    "\n",
    "    return {\n",
    "        \"cv_mean_acc\": cv_scores.mean(),\n",
    "        \"cv_std_acc\": cv_scores.std(),\n",
    "        #\"test_acc\": test_acc,\n",
    "        \"report\": report,\n",
    "        \"conf_matrix\": conf\n",
    "    }\n",
    "\n"
   ]
  },
  {
   "cell_type": "markdown",
   "metadata": {},
   "source": [
    "### 5-Fold"
   ]
  },
  {
   "cell_type": "code",
   "execution_count": 19,
   "metadata": {},
   "outputs": [
    {
     "data": {
      "text/html": [
       "<div>\n",
       "<style scoped>\n",
       "    .dataframe tbody tr th:only-of-type {\n",
       "        vertical-align: middle;\n",
       "    }\n",
       "\n",
       "    .dataframe tbody tr th {\n",
       "        vertical-align: top;\n",
       "    }\n",
       "\n",
       "    .dataframe thead th {\n",
       "        text-align: right;\n",
       "    }\n",
       "</style>\n",
       "<table border=\"1\" class=\"dataframe\">\n",
       "  <thead>\n",
       "    <tr style=\"text-align: right;\">\n",
       "      <th></th>\n",
       "      <th>Split</th>\n",
       "      <th>Samples</th>\n",
       "      <th>Features</th>\n",
       "      <th>CV Accuracy</th>\n",
       "    </tr>\n",
       "  </thead>\n",
       "  <tbody>\n",
       "    <tr>\n",
       "      <th>2</th>\n",
       "      <td>15pct_70</td>\n",
       "      <td>357</td>\n",
       "      <td>5870</td>\n",
       "      <td>0.7030</td>\n",
       "    </tr>\n",
       "    <tr>\n",
       "      <th>3</th>\n",
       "      <td>15pct_80</td>\n",
       "      <td>408</td>\n",
       "      <td>5870</td>\n",
       "      <td>0.7426</td>\n",
       "    </tr>\n",
       "    <tr>\n",
       "      <th>4</th>\n",
       "      <td>25pct_70</td>\n",
       "      <td>357</td>\n",
       "      <td>9784</td>\n",
       "      <td>0.7338</td>\n",
       "    </tr>\n",
       "    <tr>\n",
       "      <th>5</th>\n",
       "      <td>25pct_80</td>\n",
       "      <td>408</td>\n",
       "      <td>9784</td>\n",
       "      <td>0.7745</td>\n",
       "    </tr>\n",
       "    <tr>\n",
       "      <th>0</th>\n",
       "      <td>5pct_70</td>\n",
       "      <td>357</td>\n",
       "      <td>1956</td>\n",
       "      <td>0.6579</td>\n",
       "    </tr>\n",
       "    <tr>\n",
       "      <th>1</th>\n",
       "      <td>5pct_80</td>\n",
       "      <td>408</td>\n",
       "      <td>1956</td>\n",
       "      <td>0.6569</td>\n",
       "    </tr>\n",
       "  </tbody>\n",
       "</table>\n",
       "</div>"
      ],
      "text/plain": [
       "      Split  Samples  Features  CV Accuracy\n",
       "2  15pct_70      357      5870       0.7030\n",
       "3  15pct_80      408      5870       0.7426\n",
       "4  25pct_70      357      9784       0.7338\n",
       "5  25pct_80      408      9784       0.7745\n",
       "0   5pct_70      357      1956       0.6579\n",
       "1   5pct_80      408      1956       0.6569"
      ]
     },
     "execution_count": 19,
     "metadata": {},
     "output_type": "execute_result"
    }
   ],
   "source": [
    "results = []\n",
    "\n",
    "for name, path in split_sets.items():\n",
    "    X_train, X_test, y_train, y_test = load_split_data(path)\n",
    "    out = evaluate_lasso_logreg(X_train, y_train, X_test, y_test)\n",
    "\n",
    "    results.append({\n",
    "        \"Split\": name,\n",
    "        \"Samples\": X_train.shape[0],\n",
    "        \"Features\": X_train.shape[1],\n",
    "        \"CV Accuracy\": round(out[\"cv_mean_acc\"], 4),\n",
    "        #\"Test Accuracy\": round(out[\"test_acc\"], 4)\n",
    "    })\n",
    "\n",
    "results_df = pd.DataFrame(results).sort_values(\"Split\")\n",
    "results_df"
   ]
  },
  {
   "cell_type": "markdown",
   "metadata": {},
   "source": [
    "### 10-Fold"
   ]
  },
  {
   "cell_type": "code",
   "execution_count": 20,
   "metadata": {},
   "outputs": [
    {
     "data": {
      "text/html": [
       "<div>\n",
       "<style scoped>\n",
       "    .dataframe tbody tr th:only-of-type {\n",
       "        vertical-align: middle;\n",
       "    }\n",
       "\n",
       "    .dataframe tbody tr th {\n",
       "        vertical-align: top;\n",
       "    }\n",
       "\n",
       "    .dataframe thead th {\n",
       "        text-align: right;\n",
       "    }\n",
       "</style>\n",
       "<table border=\"1\" class=\"dataframe\">\n",
       "  <thead>\n",
       "    <tr style=\"text-align: right;\">\n",
       "      <th></th>\n",
       "      <th>Split</th>\n",
       "      <th>Samples</th>\n",
       "      <th>Features</th>\n",
       "      <th>CV Accuracy</th>\n",
       "    </tr>\n",
       "  </thead>\n",
       "  <tbody>\n",
       "    <tr>\n",
       "      <th>2</th>\n",
       "      <td>15pct_70</td>\n",
       "      <td>357</td>\n",
       "      <td>5870</td>\n",
       "      <td>0.7167</td>\n",
       "    </tr>\n",
       "    <tr>\n",
       "      <th>3</th>\n",
       "      <td>15pct_80</td>\n",
       "      <td>408</td>\n",
       "      <td>5870</td>\n",
       "      <td>0.7671</td>\n",
       "    </tr>\n",
       "    <tr>\n",
       "      <th>4</th>\n",
       "      <td>25pct_70</td>\n",
       "      <td>357</td>\n",
       "      <td>9784</td>\n",
       "      <td>0.7500</td>\n",
       "    </tr>\n",
       "    <tr>\n",
       "      <th>5</th>\n",
       "      <td>25pct_80</td>\n",
       "      <td>408</td>\n",
       "      <td>9784</td>\n",
       "      <td>0.7896</td>\n",
       "    </tr>\n",
       "    <tr>\n",
       "      <th>0</th>\n",
       "      <td>5pct_70</td>\n",
       "      <td>357</td>\n",
       "      <td>1956</td>\n",
       "      <td>0.6582</td>\n",
       "    </tr>\n",
       "    <tr>\n",
       "      <th>1</th>\n",
       "      <td>5pct_80</td>\n",
       "      <td>408</td>\n",
       "      <td>1956</td>\n",
       "      <td>0.6494</td>\n",
       "    </tr>\n",
       "  </tbody>\n",
       "</table>\n",
       "</div>"
      ],
      "text/plain": [
       "      Split  Samples  Features  CV Accuracy\n",
       "2  15pct_70      357      5870       0.7167\n",
       "3  15pct_80      408      5870       0.7671\n",
       "4  25pct_70      357      9784       0.7500\n",
       "5  25pct_80      408      9784       0.7896\n",
       "0   5pct_70      357      1956       0.6582\n",
       "1   5pct_80      408      1956       0.6494"
      ]
     },
     "execution_count": 20,
     "metadata": {},
     "output_type": "execute_result"
    }
   ],
   "source": [
    "results = []\n",
    "\n",
    "for name, path in split_sets.items():\n",
    "    X_train, X_test, y_train, y_test = load_split_data(path)\n",
    "    out = evaluate_lasso_logreg(X_train, y_train, X_test, y_test, cv_folds=10)\n",
    "\n",
    "    results.append({\n",
    "        \"Split\": name,\n",
    "        \"Samples\": X_train.shape[0],\n",
    "        \"Features\": X_train.shape[1],\n",
    "        \"CV Accuracy\": round(out[\"cv_mean_acc\"], 4),\n",
    "        #\"Test Accuracy\": round(out[\"test_acc\"], 4)\n",
    "    })\n",
    "\n",
    "results_df = pd.DataFrame(results).sort_values(\"Split\")\n",
    "results_df"
   ]
  },
  {
   "cell_type": "code",
   "execution_count": 21,
   "metadata": {},
   "outputs": [
    {
     "data": {
      "text/html": [
       "<div>\n",
       "<style scoped>\n",
       "    .dataframe tbody tr th:only-of-type {\n",
       "        vertical-align: middle;\n",
       "    }\n",
       "\n",
       "    .dataframe tbody tr th {\n",
       "        vertical-align: top;\n",
       "    }\n",
       "\n",
       "    .dataframe thead th {\n",
       "        text-align: right;\n",
       "    }\n",
       "</style>\n",
       "<table border=\"1\" class=\"dataframe\">\n",
       "  <thead>\n",
       "    <tr style=\"text-align: right;\">\n",
       "      <th></th>\n",
       "      <th>precision</th>\n",
       "      <th>recall</th>\n",
       "      <th>f1-score</th>\n",
       "      <th>support</th>\n",
       "    </tr>\n",
       "  </thead>\n",
       "  <tbody>\n",
       "    <tr>\n",
       "      <th>0</th>\n",
       "      <td>0.812500</td>\n",
       "      <td>0.696429</td>\n",
       "      <td>0.750000</td>\n",
       "      <td>56.000000</td>\n",
       "    </tr>\n",
       "    <tr>\n",
       "      <th>1</th>\n",
       "      <td>0.685185</td>\n",
       "      <td>0.804348</td>\n",
       "      <td>0.740000</td>\n",
       "      <td>46.000000</td>\n",
       "    </tr>\n",
       "    <tr>\n",
       "      <th>accuracy</th>\n",
       "      <td>0.745098</td>\n",
       "      <td>0.745098</td>\n",
       "      <td>0.745098</td>\n",
       "      <td>0.745098</td>\n",
       "    </tr>\n",
       "    <tr>\n",
       "      <th>macro avg</th>\n",
       "      <td>0.748843</td>\n",
       "      <td>0.750388</td>\n",
       "      <td>0.745000</td>\n",
       "      <td>102.000000</td>\n",
       "    </tr>\n",
       "    <tr>\n",
       "      <th>weighted avg</th>\n",
       "      <td>0.755084</td>\n",
       "      <td>0.745098</td>\n",
       "      <td>0.745490</td>\n",
       "      <td>102.000000</td>\n",
       "    </tr>\n",
       "  </tbody>\n",
       "</table>\n",
       "</div>"
      ],
      "text/plain": [
       "              precision    recall  f1-score     support\n",
       "0              0.812500  0.696429  0.750000   56.000000\n",
       "1              0.685185  0.804348  0.740000   46.000000\n",
       "accuracy       0.745098  0.745098  0.745098    0.745098\n",
       "macro avg      0.748843  0.750388  0.745000  102.000000\n",
       "weighted avg   0.755084  0.745098  0.745490  102.000000"
      ]
     },
     "execution_count": 21,
     "metadata": {},
     "output_type": "execute_result"
    }
   ],
   "source": [
    "# View for a specific split\n",
    "split_to_inspect = \"25pct_80\"\n",
    "X_train, X_test, y_train, y_test = load_split_data(split_sets[split_to_inspect])\n",
    "out = evaluate_lasso_logreg(X_train, y_train, X_test, y_test, cv_folds=10)\n",
    "\n",
    "# Classification report\n",
    "pd.DataFrame(out[\"report\"]).T"
   ]
  },
  {
   "cell_type": "code",
   "execution_count": 25,
   "metadata": {},
   "outputs": [
    {
     "data": {
      "image/png": "[encoded data removed]",
      "text/plain": [
       "<Figure size 640x480 with 2 Axes>"
      ]
     },
     "metadata": {},
     "output_type": "display_data"
    }
   ],
   "source": [
    "# Confusion matrix heatmap\n",
    "sns.heatmap(out[\"conf_matrix\"], annot=True, fmt='d', cmap=\"PuRd\", cbar=True, annot_kws= {\"fontsize\":14})\n",
    "plt.title(f\"Confusion Matrix - {split_to_inspect}\", fontsize = 16 , pad = 10)\n",
    "plt.xlabel(\"Predicted\")\n",
    "plt.ylabel(\"Actual\")\n",
    "plt.savefig(plotdir/\"CF_logistic.png\", bbox_inches=\"tight\", dpi=300)\n",
    "plt.show()"
   ]
  },
  {
   "cell_type": "markdown",
   "metadata": {},
   "source": [
    "### Save Data\n"
   ]
  },
  {
   "cell_type": "code",
   "execution_count": 23,
   "metadata": {},
   "outputs": [],
   "source": [
    "results_df.to_csv(\"/Users/tusharsingh/Work/Project/tcga-mldl/results/data/Logistic_results.csv\")"
   ]
  }
 ],
 "metadata": {
  "kernelspec": {
   "display_name": "ML_practice",
   "language": "python",
   "name": "python3"
  },
  "language_info": {
   "codemirror_mode": {
    "name": "ipython",
    "version": 3
   },
   "file_extension": ".py",
   "mimetype": "text/x-python",
   "name": "python",
   "nbconvert_exporter": "python",
   "pygments_lexer": "ipython3",
   "version": "3.11.8"
  }
 },
 "nbformat": 4,
 "nbformat_minor": 2
}
